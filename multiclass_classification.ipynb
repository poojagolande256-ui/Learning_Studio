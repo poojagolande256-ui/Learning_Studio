{
  "nbformat": 4,
  "nbformat_minor": 0,
  "metadata": {
    "colab": {
      "provenance": [],
      "gpuType": "T4",
      "authorship_tag": "ABX9TyODesHxZFO3WRqonIM4WnvN",
      "include_colab_link": true
    },
    "kernelspec": {
      "name": "python3",
      "display_name": "Python 3"
    },
    "language_info": {
      "name": "python"
    },
    "accelerator": "GPU"
  },
  "cells": [
    {
      "cell_type": "markdown",
      "metadata": {
        "id": "view-in-github",
        "colab_type": "text"
      },
      "source": [
        "<a href=\"https://colab.research.google.com/github/poojagolande256-ui/Learning_Studio/blob/main/multiclass_classification.ipynb\" target=\"_parent\"><img src=\"https://colab.research.google.com/assets/colab-badge.svg\" alt=\"Open In Colab\"/></a>"
      ]
    },
    {
      "cell_type": "markdown",
      "source": [
        "Step 1 Change Runtime type-> T4 GPU"
      ],
      "metadata": {
        "id": "9ASNMetApuG5"
      }
    },
    {
      "cell_type": "markdown",
      "source": [
        "Step 2 Data Ig"
      ],
      "metadata": {
        "id": "P8NTgVvFp8R7"
      }
    },
    {
      "cell_type": "code",
      "source": [
        "S"
      ],
      "metadata": {
        "id": "OvId_GxPp0WW"
      },
      "execution_count": null,
      "outputs": []
    }
  ]
}