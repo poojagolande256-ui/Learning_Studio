{
  "nbformat": 4,
  "nbformat_minor": 0,
  "metadata": {
    "colab": {
      "provenance": [],
      "gpuType": "T4",
      "authorship_tag": "ABX9TyNY3R1e+0LnXCUtRVjmLMd8",
      "include_colab_link": true
    },
    "kernelspec": {
      "name": "python3",
      "display_name": "Python 3"
    },
    "language_info": {
      "name": "python"
    },
    "accelerator": "GPU"
  },
  "cells": [
    {
      "cell_type": "markdown",
      "metadata": {
        "id": "view-in-github",
        "colab_type": "text"
      },
      "source": [
        "<a href=\"https://colab.research.google.com/github/poojagolande256-ui/Learning_Studio/blob/main/loan_approval_prediction.ipynb\" target=\"_parent\"><img src=\"https://colab.research.google.com/assets/colab-badge.svg\" alt=\"Open In Colab\"/></a>"
      ]
    },
    {
      "cell_type": "markdown",
      "source": [
        "Step 1 Change runtime"
      ],
      "metadata": {
        "id": "78Af3-1RzQmb"
      }
    },
    {
      "cell_type": "code",
      "source": [
        "#non harmful warning will get ignore\n",
        "from warnings import filterwarnings\n",
        "filterwarnings(\"ignore\")\n"
      ],
      "metadata": {
        "id": "XeJT3SzvzZEj"
      },
      "execution_count": 2,
      "outputs": []
    },
    {
      "cell_type": "markdown",
      "source": [
        "Step-2 Data Ingestion"
      ],
      "metadata": {
        "id": "47VNWqp_1r7p"
      }
    },
    {
      "cell_type": "code",
      "source": [
        "url1=\"https://raw.githubusercontent.com/utkarshg1/Neural-Net-Datasets/refs/heads/main/train_loan.csv\""
      ],
      "metadata": {
        "id": "Jv-1UEQN1sZ0"
      },
      "execution_count": 3,
      "outputs": []
    },
    {
      "cell_type": "code",
      "source": [
        "import pandas as pd"
      ],
      "metadata": {
        "id": "oC5Rk-L8154c"
      },
      "execution_count": 4,
      "outputs": []
    },
    {
      "cell_type": "code",
      "source": [
        "df=pd.read_csv(url1)"
      ],
      "metadata": {
        "id": "oO0LBjO-2EiJ"
      },
      "execution_count": 5,
      "outputs": []
    },
    {
      "cell_type": "code",
      "source": [
        "df.head(1)"
      ],
      "metadata": {
        "colab": {
          "base_uri": "https://localhost:8080/",
          "height": 101
        },
        "id": "rAUy03nb2RLp",
        "outputId": "8a0c7b59-a36d-4823-83bd-e2a91807f71b"
      },
      "execution_count": 6,
      "outputs": [
        {
          "output_type": "execute_result",
          "data": {
            "text/plain": [
              "   id  person_age  person_income person_home_ownership  person_emp_length  \\\n",
              "0   0          37          35000                  RENT                0.0   \n",
              "\n",
              "  loan_intent loan_grade  loan_amnt  loan_int_rate  loan_percent_income  \\\n",
              "0   EDUCATION          B       6000          11.49                 0.17   \n",
              "\n",
              "  cb_person_default_on_file  cb_person_cred_hist_length  loan_status  \n",
              "0                         N                          14            0  "
            ],
            "text/html": [
              "\n",
              "  <div id=\"df-0f6a6aae-8feb-49ef-b286-47ca7c40a4ec\" class=\"colab-df-container\">\n",
              "    <div>\n",
              "<style scoped>\n",
              "    .dataframe tbody tr th:only-of-type {\n",
              "        vertical-align: middle;\n",
              "    }\n",
              "\n",
              "    .dataframe tbody tr th {\n",
              "        vertical-align: top;\n",
              "    }\n",
              "\n",
              "    .dataframe thead th {\n",
              "        text-align: right;\n",
              "    }\n",
              "</style>\n",
              "<table border=\"1\" class=\"dataframe\">\n",
              "  <thead>\n",
              "    <tr style=\"text-align: right;\">\n",
              "      <th></th>\n",
              "      <th>id</th>\n",
              "      <th>person_age</th>\n",
              "      <th>person_income</th>\n",
              "      <th>person_home_ownership</th>\n",
              "      <th>person_emp_length</th>\n",
              "      <th>loan_intent</th>\n",
              "      <th>loan_grade</th>\n",
              "      <th>loan_amnt</th>\n",
              "      <th>loan_int_rate</th>\n",
              "      <th>loan_percent_income</th>\n",
              "      <th>cb_person_default_on_file</th>\n",
              "      <th>cb_person_cred_hist_length</th>\n",
              "      <th>loan_status</th>\n",
              "    </tr>\n",
              "  </thead>\n",
              "  <tbody>\n",
              "    <tr>\n",
              "      <th>0</th>\n",
              "      <td>0</td>\n",
              "      <td>37</td>\n",
              "      <td>35000</td>\n",
              "      <td>RENT</td>\n",
              "      <td>0.0</td>\n",
              "      <td>EDUCATION</td>\n",
              "      <td>B</td>\n",
              "      <td>6000</td>\n",
              "      <td>11.49</td>\n",
              "      <td>0.17</td>\n",
              "      <td>N</td>\n",
              "      <td>14</td>\n",
              "      <td>0</td>\n",
              "    </tr>\n",
              "  </tbody>\n",
              "</table>\n",
              "</div>\n",
              "    <div class=\"colab-df-buttons\">\n",
              "\n",
              "  <div class=\"colab-df-container\">\n",
              "    <button class=\"colab-df-convert\" onclick=\"convertToInteractive('df-0f6a6aae-8feb-49ef-b286-47ca7c40a4ec')\"\n",
              "            title=\"Convert this dataframe to an interactive table.\"\n",
              "            style=\"display:none;\">\n",
              "\n",
              "  <svg xmlns=\"http://www.w3.org/2000/svg\" height=\"24px\" viewBox=\"0 -960 960 960\">\n",
              "    <path d=\"M120-120v-720h720v720H120Zm60-500h600v-160H180v160Zm220 220h160v-160H400v160Zm0 220h160v-160H400v160ZM180-400h160v-160H180v160Zm440 0h160v-160H620v160ZM180-180h160v-160H180v160Zm440 0h160v-160H620v160Z\"/>\n",
              "  </svg>\n",
              "    </button>\n",
              "\n",
              "  <style>\n",
              "    .colab-df-container {\n",
              "      display:flex;\n",
              "      gap: 12px;\n",
              "    }\n",
              "\n",
              "    .colab-df-convert {\n",
              "      background-color: #E8F0FE;\n",
              "      border: none;\n",
              "      border-radius: 50%;\n",
              "      cursor: pointer;\n",
              "      display: none;\n",
              "      fill: #1967D2;\n",
              "      height: 32px;\n",
              "      padding: 0 0 0 0;\n",
              "      width: 32px;\n",
              "    }\n",
              "\n",
              "    .colab-df-convert:hover {\n",
              "      background-color: #E2EBFA;\n",
              "      box-shadow: 0px 1px 2px rgba(60, 64, 67, 0.3), 0px 1px 3px 1px rgba(60, 64, 67, 0.15);\n",
              "      fill: #174EA6;\n",
              "    }\n",
              "\n",
              "    .colab-df-buttons div {\n",
              "      margin-bottom: 4px;\n",
              "    }\n",
              "\n",
              "    [theme=dark] .colab-df-convert {\n",
              "      background-color: #3B4455;\n",
              "      fill: #D2E3FC;\n",
              "    }\n",
              "\n",
              "    [theme=dark] .colab-df-convert:hover {\n",
              "      background-color: #434B5C;\n",
              "      box-shadow: 0px 1px 3px 1px rgba(0, 0, 0, 0.15);\n",
              "      filter: drop-shadow(0px 1px 2px rgba(0, 0, 0, 0.3));\n",
              "      fill: #FFFFFF;\n",
              "    }\n",
              "  </style>\n",
              "\n",
              "    <script>\n",
              "      const buttonEl =\n",
              "        document.querySelector('#df-0f6a6aae-8feb-49ef-b286-47ca7c40a4ec button.colab-df-convert');\n",
              "      buttonEl.style.display =\n",
              "        google.colab.kernel.accessAllowed ? 'block' : 'none';\n",
              "\n",
              "      async function convertToInteractive(key) {\n",
              "        const element = document.querySelector('#df-0f6a6aae-8feb-49ef-b286-47ca7c40a4ec');\n",
              "        const dataTable =\n",
              "          await google.colab.kernel.invokeFunction('convertToInteractive',\n",
              "                                                    [key], {});\n",
              "        if (!dataTable) return;\n",
              "\n",
              "        const docLinkHtml = 'Like what you see? Visit the ' +\n",
              "          '<a target=\"_blank\" href=https://colab.research.google.com/notebooks/data_table.ipynb>data table notebook</a>'\n",
              "          + ' to learn more about interactive tables.';\n",
              "        element.innerHTML = '';\n",
              "        dataTable['output_type'] = 'display_data';\n",
              "        await google.colab.output.renderOutput(dataTable, element);\n",
              "        const docLink = document.createElement('div');\n",
              "        docLink.innerHTML = docLinkHtml;\n",
              "        element.appendChild(docLink);\n",
              "      }\n",
              "    </script>\n",
              "  </div>\n",
              "\n",
              "\n",
              "    </div>\n",
              "  </div>\n"
            ],
            "application/vnd.google.colaboratory.intrinsic+json": {
              "type": "dataframe",
              "variable_name": "df",
              "summary": "{\n  \"name\": \"df\",\n  \"rows\": 58645,\n  \"fields\": [\n    {\n      \"column\": \"id\",\n      \"properties\": {\n        \"dtype\": \"number\",\n        \"std\": 16929,\n        \"min\": 0,\n        \"max\": 58644,\n        \"num_unique_values\": 58645,\n        \"samples\": [\n          4657,\n          56440,\n          42117\n        ],\n        \"semantic_type\": \"\",\n        \"description\": \"\"\n      }\n    },\n    {\n      \"column\": \"person_age\",\n      \"properties\": {\n        \"dtype\": \"number\",\n        \"std\": 6,\n        \"min\": 20,\n        \"max\": 123,\n        \"num_unique_values\": 53,\n        \"samples\": [\n          48,\n          62,\n          69\n        ],\n        \"semantic_type\": \"\",\n        \"description\": \"\"\n      }\n    },\n    {\n      \"column\": \"person_income\",\n      \"properties\": {\n        \"dtype\": \"number\",\n        \"std\": 37931,\n        \"min\": 4200,\n        \"max\": 1900000,\n        \"num_unique_values\": 2641,\n        \"samples\": [\n          57110,\n          31200,\n          45378\n        ],\n        \"semantic_type\": \"\",\n        \"description\": \"\"\n      }\n    },\n    {\n      \"column\": \"person_home_ownership\",\n      \"properties\": {\n        \"dtype\": \"category\",\n        \"num_unique_values\": 4,\n        \"samples\": [\n          \"OWN\",\n          \"OTHER\",\n          \"RENT\"\n        ],\n        \"semantic_type\": \"\",\n        \"description\": \"\"\n      }\n    },\n    {\n      \"column\": \"person_emp_length\",\n      \"properties\": {\n        \"dtype\": \"number\",\n        \"std\": 3.9597843444189302,\n        \"min\": 0.0,\n        \"max\": 123.0,\n        \"num_unique_values\": 36,\n        \"samples\": [\n          39.0,\n          4.0,\n          25.0\n        ],\n        \"semantic_type\": \"\",\n        \"description\": \"\"\n      }\n    },\n    {\n      \"column\": \"loan_intent\",\n      \"properties\": {\n        \"dtype\": \"category\",\n        \"num_unique_values\": 6,\n        \"samples\": [\n          \"EDUCATION\",\n          \"MEDICAL\",\n          \"HOMEIMPROVEMENT\"\n        ],\n        \"semantic_type\": \"\",\n        \"description\": \"\"\n      }\n    },\n    {\n      \"column\": \"loan_grade\",\n      \"properties\": {\n        \"dtype\": \"category\",\n        \"num_unique_values\": 7,\n        \"samples\": [\n          \"B\",\n          \"C\",\n          \"F\"\n        ],\n        \"semantic_type\": \"\",\n        \"description\": \"\"\n      }\n    },\n    {\n      \"column\": \"loan_amnt\",\n      \"properties\": {\n        \"dtype\": \"number\",\n        \"std\": 5563,\n        \"min\": 500,\n        \"max\": 35000,\n        \"num_unique_values\": 545,\n        \"samples\": [\n          1275,\n          6600,\n          11600\n        ],\n        \"semantic_type\": \"\",\n        \"description\": \"\"\n      }\n    },\n    {\n      \"column\": \"loan_int_rate\",\n      \"properties\": {\n        \"dtype\": \"number\",\n        \"std\": 3.0346972031377084,\n        \"min\": 5.42,\n        \"max\": 23.22,\n        \"num_unique_values\": 362,\n        \"samples\": [\n          11.97,\n          7.49,\n          14.11\n        ],\n        \"semantic_type\": \"\",\n        \"description\": \"\"\n      }\n    },\n    {\n      \"column\": \"loan_percent_income\",\n      \"properties\": {\n        \"dtype\": \"number\",\n        \"std\": 0.09169179303584088,\n        \"min\": 0.0,\n        \"max\": 0.83,\n        \"num_unique_values\": 61,\n        \"samples\": [\n          0.17,\n          0.27,\n          0.51\n        ],\n        \"semantic_type\": \"\",\n        \"description\": \"\"\n      }\n    },\n    {\n      \"column\": \"cb_person_default_on_file\",\n      \"properties\": {\n        \"dtype\": \"category\",\n        \"num_unique_values\": 2,\n        \"samples\": [\n          \"Y\",\n          \"N\"\n        ],\n        \"semantic_type\": \"\",\n        \"description\": \"\"\n      }\n    },\n    {\n      \"column\": \"cb_person_cred_hist_length\",\n      \"properties\": {\n        \"dtype\": \"number\",\n        \"std\": 4,\n        \"min\": 2,\n        \"max\": 30,\n        \"num_unique_values\": 29,\n        \"samples\": [\n          25,\n          23\n        ],\n        \"semantic_type\": \"\",\n        \"description\": \"\"\n      }\n    },\n    {\n      \"column\": \"loan_status\",\n      \"properties\": {\n        \"dtype\": \"number\",\n        \"std\": 0,\n        \"min\": 0,\n        \"max\": 1,\n        \"num_unique_values\": 2,\n        \"samples\": [\n          1,\n          0\n        ],\n        \"semantic_type\": \"\",\n        \"description\": \"\"\n      }\n    }\n  ]\n}"
            }
          },
          "metadata": {},
          "execution_count": 6
        }
      ]
    },
    {
      "cell_type": "code",
      "source": [
        "loan=df"
      ],
      "metadata": {
        "id": "hXGwXgwo5eXF"
      },
      "execution_count": 7,
      "outputs": []
    },
    {
      "cell_type": "code",
      "source": [],
      "metadata": {
        "id": "TurN9wBC04s6"
      },
      "execution_count": 7,
      "outputs": []
    },
    {
      "cell_type": "code",
      "source": [
        "loan.loan_status.unique()"
      ],
      "metadata": {
        "colab": {
          "base_uri": "https://localhost:8080/"
        },
        "id": "WRUyMKKtWoEH",
        "outputId": "5c3a55d5-c003-4588-a0cd-a5df02032264"
      },
      "execution_count": 8,
      "outputs": [
        {
          "output_type": "execute_result",
          "data": {
            "text/plain": [
              "array([0, 1])"
            ]
          },
          "metadata": {},
          "execution_count": 8
        }
      ]
    },
    {
      "cell_type": "markdown",
      "source": [
        "Step 3: Data Quality Check"
      ],
      "metadata": {
        "id": "bcxhg2qmXwAG"
      }
    },
    {
      "cell_type": "code",
      "source": [
        "loan.shape"
      ],
      "metadata": {
        "id": "vAJMgREATPv6",
        "outputId": "9cdd1b6f-65a6-499d-a03c-9795e4109538",
        "colab": {
          "base_uri": "https://localhost:8080/"
        }
      },
      "execution_count": 10,
      "outputs": [
        {
          "output_type": "execute_result",
          "data": {
            "text/plain": [
              "(58645, 12)"
            ]
          },
          "metadata": {},
          "execution_count": 10
        }
      ]
    },
    {
      "cell_type": "code",
      "source": [
        "loan.duplicated().sum()"
      ],
      "metadata": {
        "colab": {
          "base_uri": "https://localhost:8080/"
        },
        "id": "kOmADpba22CC",
        "outputId": "5d0f28fc-4e6c-4b37-9ef2-d6f0fcbfb805"
      },
      "execution_count": 11,
      "outputs": [
        {
          "output_type": "execute_result",
          "data": {
            "text/plain": [
              "np.int64(0)"
            ]
          },
          "metadata": {},
          "execution_count": 11
        }
      ]
    },
    {
      "cell_type": "code",
      "source": [
        " loan.isnull().sum()[loan.isnull().sum()>0]"
      ],
      "metadata": {
        "colab": {
          "base_uri": "https://localhost:8080/",
          "height": 84
        },
        "id": "aCQr2LYD3Fck",
        "outputId": "79f87f0f-8cc9-4916-8339-e118dad0bfd3"
      },
      "execution_count": 12,
      "outputs": [
        {
          "output_type": "execute_result",
          "data": {
            "text/plain": [
              "Series([], dtype: int64)"
            ],
            "text/html": [
              "<div>\n",
              "<style scoped>\n",
              "    .dataframe tbody tr th:only-of-type {\n",
              "        vertical-align: middle;\n",
              "    }\n",
              "\n",
              "    .dataframe tbody tr th {\n",
              "        vertical-align: top;\n",
              "    }\n",
              "\n",
              "    .dataframe thead th {\n",
              "        text-align: right;\n",
              "    }\n",
              "</style>\n",
              "<table border=\"1\" class=\"dataframe\">\n",
              "  <thead>\n",
              "    <tr style=\"text-align: right;\">\n",
              "      <th></th>\n",
              "      <th>0</th>\n",
              "    </tr>\n",
              "  </thead>\n",
              "  <tbody>\n",
              "  </tbody>\n",
              "</table>\n",
              "</div><br><label><b>dtype:</b> int64</label>"
            ]
          },
          "metadata": {},
          "execution_count": 12
        }
      ]
    },
    {
      "cell_type": "code",
      "source": [
        "loan.info()"
      ],
      "metadata": {
        "colab": {
          "base_uri": "https://localhost:8080/"
        },
        "id": "99Jc7rjq3JDP",
        "outputId": "99b2bd50-88fd-4eca-b203-c91e7c5bc7e7"
      },
      "execution_count": 13,
      "outputs": [
        {
          "output_type": "stream",
          "name": "stdout",
          "text": [
            "<class 'pandas.core.frame.DataFrame'>\n",
            "RangeIndex: 58645 entries, 0 to 58644\n",
            "Data columns (total 12 columns):\n",
            " #   Column                      Non-Null Count  Dtype  \n",
            "---  ------                      --------------  -----  \n",
            " 0   person_age                  58645 non-null  int64  \n",
            " 1   person_income               58645 non-null  int64  \n",
            " 2   person_home_ownership       58645 non-null  object \n",
            " 3   person_emp_length           58645 non-null  float64\n",
            " 4   loan_intent                 58645 non-null  object \n",
            " 5   loan_grade                  58645 non-null  object \n",
            " 6   loan_amnt                   58645 non-null  int64  \n",
            " 7   loan_int_rate               58645 non-null  float64\n",
            " 8   loan_percent_income         58645 non-null  float64\n",
            " 9   cb_person_default_on_file   58645 non-null  object \n",
            " 10  cb_person_cred_hist_length  58645 non-null  int64  \n",
            " 11  loan_status                 58645 non-null  int64  \n",
            "dtypes: float64(3), int64(5), object(4)\n",
            "memory usage: 5.4+ MB\n"
          ]
        }
      ]
    },
    {
      "cell_type": "code",
      "source": [
        "loan.loan_status.value_counts()"
      ],
      "metadata": {
        "colab": {
          "base_uri": "https://localhost:8080/",
          "height": 178
        },
        "id": "Gs8uW4QX2pqQ",
        "outputId": "4df303db-b153-47e4-8b43-d85e4965e562"
      },
      "execution_count": 14,
      "outputs": [
        {
          "output_type": "execute_result",
          "data": {
            "text/plain": [
              "loan_status\n",
              "0    50295\n",
              "1     8350\n",
              "Name: count, dtype: int64"
            ],
            "text/html": [
              "<div>\n",
              "<style scoped>\n",
              "    .dataframe tbody tr th:only-of-type {\n",
              "        vertical-align: middle;\n",
              "    }\n",
              "\n",
              "    .dataframe tbody tr th {\n",
              "        vertical-align: top;\n",
              "    }\n",
              "\n",
              "    .dataframe thead th {\n",
              "        text-align: right;\n",
              "    }\n",
              "</style>\n",
              "<table border=\"1\" class=\"dataframe\">\n",
              "  <thead>\n",
              "    <tr style=\"text-align: right;\">\n",
              "      <th></th>\n",
              "      <th>count</th>\n",
              "    </tr>\n",
              "    <tr>\n",
              "      <th>loan_status</th>\n",
              "      <th></th>\n",
              "    </tr>\n",
              "  </thead>\n",
              "  <tbody>\n",
              "    <tr>\n",
              "      <th>0</th>\n",
              "      <td>50295</td>\n",
              "    </tr>\n",
              "    <tr>\n",
              "      <th>1</th>\n",
              "      <td>8350</td>\n",
              "    </tr>\n",
              "  </tbody>\n",
              "</table>\n",
              "</div><br><label><b>dtype:</b> int64</label>"
            ]
          },
          "metadata": {},
          "execution_count": 14
        }
      ]
    },
    {
      "cell_type": "code",
      "source": [
        "loan[\"loan_status\"].value_counts().plot(kind=\"bar\")"
      ],
      "metadata": {
        "colab": {
          "base_uri": "https://localhost:8080/",
          "height": 461
        },
        "id": "eDVQg0pyW7on",
        "outputId": "8f811dac-1bc3-47dc-c872-5e52adac1249"
      },
      "execution_count": 15,
      "outputs": [
        {
          "output_type": "execute_result",
          "data": {
            "text/plain": [
              "<Axes: xlabel='loan_status'>"
            ]
          },
          "metadata": {},
          "execution_count": 15
        },
        {
          "output_type": "display_data",
          "data": {
            "text/plain": [
              "<Figure size 640x480 with 1 Axes>"
            ],
            "image/png": "[encoded data removed]"
          },
          "metadata": {}
        }
      ]
    },
    {
      "cell_type": "code",
      "source": [
        "x=df.drop(columns=[\"id\",'loan_status'])\n",
        "y=df[\"loan_status\"]"
      ],
      "metadata": {
        "id": "t74KS0YnTpc0"
      },
      "execution_count": 16,
      "outputs": []
    },
    {
      "cell_type": "markdown",
      "source": [
        "Step 4-Train Test Split"
      ],
      "metadata": {
        "id": "enp25WZq3ctM"
      }
    },
    {
      "cell_type": "code",
      "source": [
        "from sklearn.model_selection import train_test_split\n",
        "xtrain,xtest,ytrain,ytest=train_test_split(x,y,test_size=0.2,random_state=42)"
      ],
      "metadata": {
        "id": "-KD4ul633oIQ"
      },
      "execution_count": 17,
      "outputs": []
    },
    {
      "cell_type": "code",
      "source": [
        "xtest.shape"
      ],
      "metadata": {
        "colab": {
          "base_uri": "https://localhost:8080/"
        },
        "id": "vTB_FRjO7lEN",
        "outputId": "b91651c3-adeb-4fa0-8aa2-e8db37ec55d0"
      },
      "execution_count": 18,
      "outputs": [
        {
          "output_type": "execute_result",
          "data": {
            "text/plain": [
              "(11729, 11)"
            ]
          },
          "metadata": {},
          "execution_count": 18
        }
      ]
    },
    {
      "cell_type": "code",
      "source": [
        "xtrain.shape"
      ],
      "metadata": {
        "colab": {
          "base_uri": "https://localhost:8080/"
        },
        "id": "CSpU1UFg7q8s",
        "outputId": "76bdbdae-219f-46ad-af3d-74abde5bc0ba"
      },
      "execution_count": 19,
      "outputs": [
        {
          "output_type": "execute_result",
          "data": {
            "text/plain": [
              "(46916, 11)"
            ]
          },
          "metadata": {},
          "execution_count": 19
        }
      ]
    },
    {
      "cell_type": "markdown",
      "source": [
        "Step 6 - Apply data preprocessing on xtrain,xtest"
      ],
      "metadata": {
        "id": "9L5mUWwIb4xO"
      }
    },
    {
      "cell_type": "code",
      "source": [
        "cat_cols=x.select_dtypes(include=\"object\").columns.tolist()\n",
        "num_cols=x.select_dtypes(include=\"number\").columns.tolist()"
      ],
      "metadata": {
        "id": "i7uc4kkL46JH"
      },
      "execution_count": 20,
      "outputs": []
    },
    {
      "cell_type": "code",
      "source": [
        "cat_cols"
      ],
      "metadata": {
        "id": "1f_v5sIdUcB6",
        "outputId": "f794dea6-0227-466b-b418-0ccb6523d315",
        "colab": {
          "base_uri": "https://localhost:8080/"
        }
      },
      "execution_count": 21,
      "outputs": [
        {
          "output_type": "execute_result",
          "data": {
            "text/plain": [
              "['person_home_ownership',\n",
              " 'loan_intent',\n",
              " 'loan_grade',\n",
              " 'cb_person_default_on_file']"
            ]
          },
          "metadata": {},
          "execution_count": 21
        }
      ]
    },
    {
      "cell_type": "code",
      "source": [
        "num_cols"
      ],
      "metadata": {
        "id": "ApDE9GwsUeE7",
        "outputId": "64bc679b-56ce-486a-afee-7ef424f8cfb2",
        "colab": {
          "base_uri": "https://localhost:8080/"
        }
      },
      "execution_count": 22,
      "outputs": [
        {
          "output_type": "execute_result",
          "data": {
            "text/plain": [
              "['person_age',\n",
              " 'person_income',\n",
              " 'person_emp_length',\n",
              " 'loan_amnt',\n",
              " 'loan_int_rate',\n",
              " 'loan_percent_income',\n",
              " 'cb_person_cred_hist_length']"
            ]
          },
          "metadata": {},
          "execution_count": 22
        }
      ]
    },
    {
      "cell_type": "code",
      "source": [
        "from sklearn.pipeline import make_pipeline\n",
        "from sklearn.impute import SimpleImputer\n",
        "from sklearn.preprocessing import StandardScaler,OneHotEncoder,OrdinalEncoder\n",
        "from sklearn.compose import ColumnTransformer"
      ],
      "metadata": {
        "id": "Iqr5UPt84JlW"
      },
      "execution_count": 23,
      "outputs": []
    },
    {
      "cell_type": "code",
      "source": [
        "num_pipe = make_pipeline(\n",
        "    SimpleImputer(strategy=\"median\"),\n",
        "    StandardScaler()\n",
        ")\n",
        "#create pipeline for numerical data"
      ],
      "metadata": {
        "id": "rilIfX184y7R"
      },
      "execution_count": 24,
      "outputs": []
    },
    {
      "cell_type": "code",
      "source": [
        "cat_pipe = make_pipeline(\n",
        "    SimpleImputer(strategy=\"most_frequent\"),\n",
        "    OneHotEncoder(handle_unknown=\"ignore\",sparse_output=False,drop=\"first\")\n",
        ")\n",
        "#create pipeline for catogorical data"
      ],
      "metadata": {
        "id": "kocyTm_z5-50"
      },
      "execution_count": 25,
      "outputs": []
    },
    {
      "cell_type": "code",
      "source": [
        "#implement the preprocessor-if we want to combine pipeline we need to use column transformer\n",
        "pre=ColumnTransformer(\n",
        "    [\n",
        "        (\"num\",num_pipe,num_cols),\n",
        "        (\"cat\",cat_pipe,cat_cols)\n",
        "    ]\n",
        ").set_output(transform=\"pandas\")"
      ],
      "metadata": {
        "id": "71R7Lvcw6W0n"
      },
      "execution_count": 26,
      "outputs": []
    },
    {
      "cell_type": "code",
      "source": [
        "pre.fit(xtrain,ytrain)\n",
        "#fit the pipeline"
      ],
      "metadata": {
        "colab": {
          "base_uri": "https://localhost:8080/",
          "height": 190
        },
        "id": "elnrb28ziEdz",
        "outputId": "86f93a96-5f5e-465e-d77d-8412ce38636f"
      },
      "execution_count": 27,
      "outputs": [
        {
          "output_type": "execute_result",
          "data": {
            "text/plain": [
              "ColumnTransformer(transformers=[('num',\n",
              "                                 Pipeline(steps=[('simpleimputer',\n",
              "                                                  SimpleImputer(strategy='median')),\n",
              "                                                 ('standardscaler',\n",
              "                                                  StandardScaler())]),\n",
              "                                 ['person_age', 'person_income',\n",
              "                                  'person_emp_length', 'loan_amnt',\n",
              "                                  'loan_int_rate', 'loan_percent_income',\n",
              "                                  'cb_person_cred_hist_length']),\n",
              "                                ('cat',\n",
              "                                 Pipeline(steps=[('simpleimputer',\n",
              "                                                  SimpleImputer(strategy='most_frequent')),\n",
              "                                                 ('onehotencoder',\n",
              "                                                  OneHotEncoder(drop='first',\n",
              "                                                                handle_unknown='ignore',\n",
              "                                                                sparse_output=False))]),\n",
              "                                 ['person_home_ownership', 'loan_intent',\n",
              "                                  'loan_grade', 'cb_person_default_on_file'])])"
            ],
            "text/html": [
              "<style>#sk-container-id-1 {\n",
              "  /* Definition of color scheme common for light and dark mode */\n",
              "  --sklearn-color-text: #000;\n",
              "  --sklearn-color-text-muted: #666;\n",
              "  --sklearn-color-line: gray;\n",
              "  /* Definition of color scheme for unfitted estimators */\n",
              "  --sklearn-color-unfitted-level-0: #fff5e6;\n",
              "  --sklearn-color-unfitted-level-1: #f6e4d2;\n",
              "  --sklearn-color-unfitted-level-2: #ffe0b3;\n",
              "  --sklearn-color-unfitted-level-3: chocolate;\n",
              "  /* Definition of color scheme for fitted estimators */\n",
              "  --sklearn-color-fitted-level-0: #f0f8ff;\n",
              "  --sklearn-color-fitted-level-1: #d4ebff;\n",
              "  --sklearn-color-fitted-level-2: #b3dbfd;\n",
              "  --sklearn-color-fitted-level-3: cornflowerblue;\n",
              "\n",
              "  /* Specific color for light theme */\n",
              "  --sklearn-color-text-on-default-background: var(--sg-text-color, var(--theme-code-foreground, var(--jp-content-font-color1, black)));\n",
              "  --sklearn-color-background: var(--sg-background-color, var(--theme-background, var(--jp-layout-color0, white)));\n",
              "  --sklearn-color-border-box: var(--sg-text-color, var(--theme-code-foreground, var(--jp-content-font-color1, black)));\n",
              "  --sklearn-color-icon: #696969;\n",
              "\n",
              "  @media (prefers-color-scheme: dark) {\n",
              "    /* Redefinition of color scheme for dark theme */\n",
              "    --sklearn-color-text-on-default-background: var(--sg-text-color, var(--theme-code-foreground, var(--jp-content-font-color1, white)));\n",
              "    --sklearn-color-background: var(--sg-background-color, var(--theme-background, var(--jp-layout-color0, #111)));\n",
              "    --sklearn-color-border-box: var(--sg-text-color, var(--theme-code-foreground, var(--jp-content-font-color1, white)));\n",
              "    --sklearn-color-icon: #878787;\n",
              "  }\n",
              "}\n",
              "\n",
              "#sk-container-id-1 {\n",
              "  color: var(--sklearn-color-text);\n",
              "}\n",
              "\n",
              "#sk-container-id-1 pre {\n",
              "  padding: 0;\n",
              "}\n",
              "\n",
              "#sk-container-id-1 input.sk-hidden--visually {\n",
              "  border: 0;\n",
              "  clip: rect(1px 1px 1px 1px);\n",
              "  clip: rect(1px, 1px, 1px, 1px);\n",
              "  height: 1px;\n",
              "  margin: -1px;\n",
              "  overflow: hidden;\n",
              "  padding: 0;\n",
              "  position: absolute;\n",
              "  width: 1px;\n",
              "}\n",
              "\n",
              "#sk-container-id-1 div.sk-dashed-wrapped {\n",
              "  border: 1px dashed var(--sklearn-color-line);\n",
              "  margin: 0 0.4em 0.5em 0.4em;\n",
              "  box-sizing: border-box;\n",
              "  padding-bottom: 0.4em;\n",
              "  background-color: var(--sklearn-color-background);\n",
              "}\n",
              "\n",
              "#sk-container-id-1 div.sk-container {\n",
              "  /* jupyter's `normalize.less` sets `[hidden] { display: none; }`\n",
              "     but bootstrap.min.css set `[hidden] { display: none !important; }`\n",
              "     so we also need the `!important` here to be able to override the\n",
              "     default hidden behavior on the sphinx rendered scikit-learn.org.\n",
              "     See: https://github.com/scikit-learn/scikit-learn/issues/21755 */\n",
              "  display: inline-block !important;\n",
              "  position: relative;\n",
              "}\n",
              "\n",
              "#sk-container-id-1 div.sk-text-repr-fallback {\n",
              "  display: none;\n",
              "}\n",
              "\n",
              "div.sk-parallel-item,\n",
              "div.sk-serial,\n",
              "div.sk-item {\n",
              "  /* draw centered vertical line to link estimators */\n",
              "  background-image: linear-gradient(var(--sklearn-color-text-on-default-background), var(--sklearn-color-text-on-default-background));\n",
              "  background-size: 2px 100%;\n",
              "  background-repeat: no-repeat;\n",
              "  background-position: center center;\n",
              "}\n",
              "\n",
              "/* Parallel-specific style estimator block */\n",
              "\n",
              "#sk-container-id-1 div.sk-parallel-item::after {\n",
              "  content: \"\";\n",
              "  width: 100%;\n",
              "  border-bottom: 2px solid var(--sklearn-color-text-on-default-background);\n",
              "  flex-grow: 1;\n",
              "}\n",
              "\n",
              "#sk-container-id-1 div.sk-parallel {\n",
              "  display: flex;\n",
              "  align-items: stretch;\n",
              "  justify-content: center;\n",
              "  background-color: var(--sklearn-color-background);\n",
              "  position: relative;\n",
              "}\n",
              "\n",
              "#sk-container-id-1 div.sk-parallel-item {\n",
              "  display: flex;\n",
              "  flex-direction: column;\n",
              "}\n",
              "\n",
              "#sk-container-id-1 div.sk-parallel-item:first-child::after {\n",
              "  align-self: flex-end;\n",
              "  width: 50%;\n",
              "}\n",
              "\n",
              "#sk-container-id-1 div.sk-parallel-item:last-child::after {\n",
              "  align-self: flex-start;\n",
              "  width: 50%;\n",
              "}\n",
              "\n",
              "#sk-container-id-1 div.sk-parallel-item:only-child::after {\n",
              "  width: 0;\n",
              "}\n",
              "\n",
              "/* Serial-specific style estimator block */\n",
              "\n",
              "#sk-container-id-1 div.sk-serial {\n",
              "  display: flex;\n",
              "  flex-direction: column;\n",
              "  align-items: center;\n",
              "  background-color: var(--sklearn-color-background);\n",
              "  padding-right: 1em;\n",
              "  padding-left: 1em;\n",
              "}\n",
              "\n",
              "\n",
              "/* Toggleable style: style used for estimator/Pipeline/ColumnTransformer box that is\n",
              "clickable and can be expanded/collapsed.\n",
              "- Pipeline and ColumnTransformer use this feature and define the default style\n",
              "- Estimators will overwrite some part of the style using the `sk-estimator` class\n",
              "*/\n",
              "\n",
              "/* Pipeline and ColumnTransformer style (default) */\n",
              "\n",
              "#sk-container-id-1 div.sk-toggleable {\n",
              "  /* Default theme specific background. It is overwritten whether we have a\n",
              "  specific estimator or a Pipeline/ColumnTransformer */\n",
              "  background-color: var(--sklearn-color-background);\n",
              "}\n",
              "\n",
              "/* Toggleable label */\n",
              "#sk-container-id-1 label.sk-toggleable__label {\n",
              "  cursor: pointer;\n",
              "  display: flex;\n",
              "  width: 100%;\n",
              "  margin-bottom: 0;\n",
              "  padding: 0.5em;\n",
              "  box-sizing: border-box;\n",
              "  text-align: center;\n",
              "  align-items: start;\n",
              "  justify-content: space-between;\n",
              "  gap: 0.5em;\n",
              "}\n",
              "\n",
              "#sk-container-id-1 label.sk-toggleable__label .caption {\n",
              "  font-size: 0.6rem;\n",
              "  font-weight: lighter;\n",
              "  color: var(--sklearn-color-text-muted);\n",
              "}\n",
              "\n",
              "#sk-container-id-1 label.sk-toggleable__label-arrow:before {\n",
              "  /* Arrow on the left of the label */\n",
              "  content: \"▸\";\n",
              "  float: left;\n",
              "  margin-right: 0.25em;\n",
              "  color: var(--sklearn-color-icon);\n",
              "}\n",
              "\n",
              "#sk-container-id-1 label.sk-toggleable__label-arrow:hover:before {\n",
              "  color: var(--sklearn-color-text);\n",
              "}\n",
              "\n",
              "/* Toggleable content - dropdown */\n",
              "\n",
              "#sk-container-id-1 div.sk-toggleable__content {\n",
              "  max-height: 0;\n",
              "  max-width: 0;\n",
              "  overflow: hidden;\n",
              "  text-align: left;\n",
              "  /* unfitted */\n",
              "  background-color: var(--sklearn-color-unfitted-level-0);\n",
              "}\n",
              "\n",
              "#sk-container-id-1 div.sk-toggleable__content.fitted {\n",
              "  /* fitted */\n",
              "  background-color: var(--sklearn-color-fitted-level-0);\n",
              "}\n",
              "\n",
              "#sk-container-id-1 div.sk-toggleable__content pre {\n",
              "  margin: 0.2em;\n",
              "  border-radius: 0.25em;\n",
              "  color: var(--sklearn-color-text);\n",
              "  /* unfitted */\n",
              "  background-color: var(--sklearn-color-unfitted-level-0);\n",
              "}\n",
              "\n",
              "#sk-container-id-1 div.sk-toggleable__content.fitted pre {\n",
              "  /* unfitted */\n",
              "  background-color: var(--sklearn-color-fitted-level-0);\n",
              "}\n",
              "\n",
              "#sk-container-id-1 input.sk-toggleable__control:checked~div.sk-toggleable__content {\n",
              "  /* Expand drop-down */\n",
              "  max-height: 200px;\n",
              "  max-width: 100%;\n",
              "  overflow: auto;\n",
              "}\n",
              "\n",
              "#sk-container-id-1 input.sk-toggleable__control:checked~label.sk-toggleable__label-arrow:before {\n",
              "  content: \"▾\";\n",
              "}\n",
              "\n",
              "/* Pipeline/ColumnTransformer-specific style */\n",
              "\n",
              "#sk-container-id-1 div.sk-label input.sk-toggleable__control:checked~label.sk-toggleable__label {\n",
              "  color: var(--sklearn-color-text);\n",
              "  background-color: var(--sklearn-color-unfitted-level-2);\n",
              "}\n",
              "\n",
              "#sk-container-id-1 div.sk-label.fitted input.sk-toggleable__control:checked~label.sk-toggleable__label {\n",
              "  background-color: var(--sklearn-color-fitted-level-2);\n",
              "}\n",
              "\n",
              "/* Estimator-specific style */\n",
              "\n",
              "/* Colorize estimator box */\n",
              "#sk-container-id-1 div.sk-estimator input.sk-toggleable__control:checked~label.sk-toggleable__label {\n",
              "  /* unfitted */\n",
              "  background-color: var(--sklearn-color-unfitted-level-2);\n",
              "}\n",
              "\n",
              "#sk-container-id-1 div.sk-estimator.fitted input.sk-toggleable__control:checked~label.sk-toggleable__label {\n",
              "  /* fitted */\n",
              "  background-color: var(--sklearn-color-fitted-level-2);\n",
              "}\n",
              "\n",
              "#sk-container-id-1 div.sk-label label.sk-toggleable__label,\n",
              "#sk-container-id-1 div.sk-label label {\n",
              "  /* The background is the default theme color */\n",
              "  color: var(--sklearn-color-text-on-default-background);\n",
              "}\n",
              "\n",
              "/* On hover, darken the color of the background */\n",
              "#sk-container-id-1 div.sk-label:hover label.sk-toggleable__label {\n",
              "  color: var(--sklearn-color-text);\n",
              "  background-color: var(--sklearn-color-unfitted-level-2);\n",
              "}\n",
              "\n",
              "/* Label box, darken color on hover, fitted */\n",
              "#sk-container-id-1 div.sk-label.fitted:hover label.sk-toggleable__label.fitted {\n",
              "  color: var(--sklearn-color-text);\n",
              "  background-color: var(--sklearn-color-fitted-level-2);\n",
              "}\n",
              "\n",
              "/* Estimator label */\n",
              "\n",
              "#sk-container-id-1 div.sk-label label {\n",
              "  font-family: monospace;\n",
              "  font-weight: bold;\n",
              "  display: inline-block;\n",
              "  line-height: 1.2em;\n",
              "}\n",
              "\n",
              "#sk-container-id-1 div.sk-label-container {\n",
              "  text-align: center;\n",
              "}\n",
              "\n",
              "/* Estimator-specific */\n",
              "#sk-container-id-1 div.sk-estimator {\n",
              "  font-family: monospace;\n",
              "  border: 1px dotted var(--sklearn-color-border-box);\n",
              "  border-radius: 0.25em;\n",
              "  box-sizing: border-box;\n",
              "  margin-bottom: 0.5em;\n",
              "  /* unfitted */\n",
              "  background-color: var(--sklearn-color-unfitted-level-0);\n",
              "}\n",
              "\n",
              "#sk-container-id-1 div.sk-estimator.fitted {\n",
              "  /* fitted */\n",
              "  background-color: var(--sklearn-color-fitted-level-0);\n",
              "}\n",
              "\n",
              "/* on hover */\n",
              "#sk-container-id-1 div.sk-estimator:hover {\n",
              "  /* unfitted */\n",
              "  background-color: var(--sklearn-color-unfitted-level-2);\n",
              "}\n",
              "\n",
              "#sk-container-id-1 div.sk-estimator.fitted:hover {\n",
              "  /* fitted */\n",
              "  background-color: var(--sklearn-color-fitted-level-2);\n",
              "}\n",
              "\n",
              "/* Specification for estimator info (e.g. \"i\" and \"?\") */\n",
              "\n",
              "/* Common style for \"i\" and \"?\" */\n",
              "\n",
              ".sk-estimator-doc-link,\n",
              "a:link.sk-estimator-doc-link,\n",
              "a:visited.sk-estimator-doc-link {\n",
              "  float: right;\n",
              "  font-size: smaller;\n",
              "  line-height: 1em;\n",
              "  font-family: monospace;\n",
              "  background-color: var(--sklearn-color-background);\n",
              "  border-radius: 1em;\n",
              "  height: 1em;\n",
              "  width: 1em;\n",
              "  text-decoration: none !important;\n",
              "  margin-left: 0.5em;\n",
              "  text-align: center;\n",
              "  /* unfitted */\n",
              "  border: var(--sklearn-color-unfitted-level-1) 1pt solid;\n",
              "  color: var(--sklearn-color-unfitted-level-1);\n",
              "}\n",
              "\n",
              ".sk-estimator-doc-link.fitted,\n",
              "a:link.sk-estimator-doc-link.fitted,\n",
              "a:visited.sk-estimator-doc-link.fitted {\n",
              "  /* fitted */\n",
              "  border: var(--sklearn-color-fitted-level-1) 1pt solid;\n",
              "  color: var(--sklearn-color-fitted-level-1);\n",
              "}\n",
              "\n",
              "/* On hover */\n",
              "div.sk-estimator:hover .sk-estimator-doc-link:hover,\n",
              ".sk-estimator-doc-link:hover,\n",
              "div.sk-label-container:hover .sk-estimator-doc-link:hover,\n",
              ".sk-estimator-doc-link:hover {\n",
              "  /* unfitted */\n",
              "  background-color: var(--sklearn-color-unfitted-level-3);\n",
              "  color: var(--sklearn-color-background);\n",
              "  text-decoration: none;\n",
              "}\n",
              "\n",
              "div.sk-estimator.fitted:hover .sk-estimator-doc-link.fitted:hover,\n",
              ".sk-estimator-doc-link.fitted:hover,\n",
              "div.sk-label-container:hover .sk-estimator-doc-link.fitted:hover,\n",
              ".sk-estimator-doc-link.fitted:hover {\n",
              "  /* fitted */\n",
              "  background-color: var(--sklearn-color-fitted-level-3);\n",
              "  color: var(--sklearn-color-background);\n",
              "  text-decoration: none;\n",
              "}\n",
              "\n",
              "/* Span, style for the box shown on hovering the info icon */\n",
              ".sk-estimator-doc-link span {\n",
              "  display: none;\n",
              "  z-index: 9999;\n",
              "  position: relative;\n",
              "  font-weight: normal;\n",
              "  right: .2ex;\n",
              "  padding: .5ex;\n",
              "  margin: .5ex;\n",
              "  width: min-content;\n",
              "  min-width: 20ex;\n",
              "  max-width: 50ex;\n",
              "  color: var(--sklearn-color-text);\n",
              "  box-shadow: 2pt 2pt 4pt #999;\n",
              "  /* unfitted */\n",
              "  background: var(--sklearn-color-unfitted-level-0);\n",
              "  border: .5pt solid var(--sklearn-color-unfitted-level-3);\n",
              "}\n",
              "\n",
              ".sk-estimator-doc-link.fitted span {\n",
              "  /* fitted */\n",
              "  background: var(--sklearn-color-fitted-level-0);\n",
              "  border: var(--sklearn-color-fitted-level-3);\n",
              "}\n",
              "\n",
              ".sk-estimator-doc-link:hover span {\n",
              "  display: block;\n",
              "}\n",
              "\n",
              "/* \"?\"-specific style due to the `<a>` HTML tag */\n",
              "\n",
              "#sk-container-id-1 a.estimator_doc_link {\n",
              "  float: right;\n",
              "  font-size: 1rem;\n",
              "  line-height: 1em;\n",
              "  font-family: monospace;\n",
              "  background-color: var(--sklearn-color-background);\n",
              "  border-radius: 1rem;\n",
              "  height: 1rem;\n",
              "  width: 1rem;\n",
              "  text-decoration: none;\n",
              "  /* unfitted */\n",
              "  color: var(--sklearn-color-unfitted-level-1);\n",
              "  border: var(--sklearn-color-unfitted-level-1) 1pt solid;\n",
              "}\n",
              "\n",
              "#sk-container-id-1 a.estimator_doc_link.fitted {\n",
              "  /* fitted */\n",
              "  border: var(--sklearn-color-fitted-level-1) 1pt solid;\n",
              "  color: var(--sklearn-color-fitted-level-1);\n",
              "}\n",
              "\n",
              "/* On hover */\n",
              "#sk-container-id-1 a.estimator_doc_link:hover {\n",
              "  /* unfitted */\n",
              "  background-color: var(--sklearn-color-unfitted-level-3);\n",
              "  color: var(--sklearn-color-background);\n",
              "  text-decoration: none;\n",
              "}\n",
              "\n",
              "#sk-container-id-1 a.estimator_doc_link.fitted:hover {\n",
              "  /* fitted */\n",
              "  background-color: var(--sklearn-color-fitted-level-3);\n",
              "}\n",
              "</style><div id=\"sk-container-id-1\" class=\"sk-top-container\"><div class=\"sk-text-repr-fallback\"><pre>ColumnTransformer(transformers=[(&#x27;num&#x27;,\n",
              "                                 Pipeline(steps=[(&#x27;simpleimputer&#x27;,\n",
              "                                                  SimpleImputer(strategy=&#x27;median&#x27;)),\n",
              "                                                 (&#x27;standardscaler&#x27;,\n",
              "                                                  StandardScaler())]),\n",
              "                                 [&#x27;person_age&#x27;, &#x27;person_income&#x27;,\n",
              "                                  &#x27;person_emp_length&#x27;, &#x27;loan_amnt&#x27;,\n",
              "                                  &#x27;loan_int_rate&#x27;, &#x27;loan_percent_income&#x27;,\n",
              "                                  &#x27;cb_person_cred_hist_length&#x27;]),\n",
              "                                (&#x27;cat&#x27;,\n",
              "                                 Pipeline(steps=[(&#x27;simpleimputer&#x27;,\n",
              "                                                  SimpleImputer(strategy=&#x27;most_frequent&#x27;)),\n",
              "                                                 (&#x27;onehotencoder&#x27;,\n",
              "                                                  OneHotEncoder(drop=&#x27;first&#x27;,\n",
              "                                                                handle_unknown=&#x27;ignore&#x27;,\n",
              "                                                                sparse_output=False))]),\n",
              "                                 [&#x27;person_home_ownership&#x27;, &#x27;loan_intent&#x27;,\n",
              "                                  &#x27;loan_grade&#x27;, &#x27;cb_person_default_on_file&#x27;])])</pre><b>In a Jupyter environment, please rerun this cell to show the HTML representation or trust the notebook. <br />On GitHub, the HTML representation is unable to render, please try loading this page with nbviewer.org.</b></div><div class=\"sk-container\" hidden><div class=\"sk-item sk-dashed-wrapped\"><div class=\"sk-label-container\"><div class=\"sk-label fitted sk-toggleable\"><input class=\"sk-toggleable__control sk-hidden--visually\" id=\"sk-estimator-id-1\" type=\"checkbox\" ><label for=\"sk-estimator-id-1\" class=\"sk-toggleable__label fitted sk-toggleable__label-arrow\"><div><div>ColumnTransformer</div></div><div><a class=\"sk-estimator-doc-link fitted\" rel=\"noreferrer\" target=\"_blank\" href=\"https://scikit-learn.org/1.6/modules/generated/sklearn.compose.ColumnTransformer.html\">?<span>Documentation for ColumnTransformer</span></a><span class=\"sk-estimator-doc-link fitted\">i<span>Fitted</span></span></div></label><div class=\"sk-toggleable__content fitted\"><pre>ColumnTransformer(transformers=[(&#x27;num&#x27;,\n",
              "                                 Pipeline(steps=[(&#x27;simpleimputer&#x27;,\n",
              "                                                  SimpleImputer(strategy=&#x27;median&#x27;)),\n",
              "                                                 (&#x27;standardscaler&#x27;,\n",
              "                                                  StandardScaler())]),\n",
              "                                 [&#x27;person_age&#x27;, &#x27;person_income&#x27;,\n",
              "                                  &#x27;person_emp_length&#x27;, &#x27;loan_amnt&#x27;,\n",
              "                                  &#x27;loan_int_rate&#x27;, &#x27;loan_percent_income&#x27;,\n",
              "                                  &#x27;cb_person_cred_hist_length&#x27;]),\n",
              "                                (&#x27;cat&#x27;,\n",
              "                                 Pipeline(steps=[(&#x27;simpleimputer&#x27;,\n",
              "                                                  SimpleImputer(strategy=&#x27;most_frequent&#x27;)),\n",
              "                                                 (&#x27;onehotencoder&#x27;,\n",
              "                                                  OneHotEncoder(drop=&#x27;first&#x27;,\n",
              "                                                                handle_unknown=&#x27;ignore&#x27;,\n",
              "                                                                sparse_output=False))]),\n",
              "                                 [&#x27;person_home_ownership&#x27;, &#x27;loan_intent&#x27;,\n",
              "                                  &#x27;loan_grade&#x27;, &#x27;cb_person_default_on_file&#x27;])])</pre></div> </div></div><div class=\"sk-parallel\"><div class=\"sk-parallel-item\"><div class=\"sk-item\"><div class=\"sk-label-container\"><div class=\"sk-label fitted sk-toggleable\"><input class=\"sk-toggleable__control sk-hidden--visually\" id=\"sk-estimator-id-2\" type=\"checkbox\" ><label for=\"sk-estimator-id-2\" class=\"sk-toggleable__label fitted sk-toggleable__label-arrow\"><div><div>num</div></div></label><div class=\"sk-toggleable__content fitted\"><pre>[&#x27;person_age&#x27;, &#x27;person_income&#x27;, &#x27;person_emp_length&#x27;, &#x27;loan_amnt&#x27;, &#x27;loan_int_rate&#x27;, &#x27;loan_percent_income&#x27;, &#x27;cb_person_cred_hist_length&#x27;]</pre></div> </div></div><div class=\"sk-serial\"><div class=\"sk-item\"><div class=\"sk-serial\"><div class=\"sk-item\"><div class=\"sk-estimator fitted sk-toggleable\"><input class=\"sk-toggleable__control sk-hidden--visually\" id=\"sk-estimator-id-3\" type=\"checkbox\" ><label for=\"sk-estimator-id-3\" class=\"sk-toggleable__label fitted sk-toggleable__label-arrow\"><div><div>SimpleImputer</div></div><div><a class=\"sk-estimator-doc-link fitted\" rel=\"noreferrer\" target=\"_blank\" href=\"https://scikit-learn.org/1.6/modules/generated/sklearn.impute.SimpleImputer.html\">?<span>Documentation for SimpleImputer</span></a></div></label><div class=\"sk-toggleable__content fitted\"><pre>SimpleImputer(strategy=&#x27;median&#x27;)</pre></div> </div></div><div class=\"sk-item\"><div class=\"sk-estimator fitted sk-toggleable\"><input class=\"sk-toggleable__control sk-hidden--visually\" id=\"sk-estimator-id-4\" type=\"checkbox\" ><label for=\"sk-estimator-id-4\" class=\"sk-toggleable__label fitted sk-toggleable__label-arrow\"><div><div>StandardScaler</div></div><div><a class=\"sk-estimator-doc-link fitted\" rel=\"noreferrer\" target=\"_blank\" href=\"https://scikit-learn.org/1.6/modules/generated/sklearn.preprocessing.StandardScaler.html\">?<span>Documentation for StandardScaler</span></a></div></label><div class=\"sk-toggleable__content fitted\"><pre>StandardScaler()</pre></div> </div></div></div></div></div></div></div><div class=\"sk-parallel-item\"><div class=\"sk-item\"><div class=\"sk-label-container\"><div class=\"sk-label fitted sk-toggleable\"><input class=\"sk-toggleable__control sk-hidden--visually\" id=\"sk-estimator-id-5\" type=\"checkbox\" ><label for=\"sk-estimator-id-5\" class=\"sk-toggleable__label fitted sk-toggleable__label-arrow\"><div><div>cat</div></div></label><div class=\"sk-toggleable__content fitted\"><pre>[&#x27;person_home_ownership&#x27;, &#x27;loan_intent&#x27;, &#x27;loan_grade&#x27;, &#x27;cb_person_default_on_file&#x27;]</pre></div> </div></div><div class=\"sk-serial\"><div class=\"sk-item\"><div class=\"sk-serial\"><div class=\"sk-item\"><div class=\"sk-estimator fitted sk-toggleable\"><input class=\"sk-toggleable__control sk-hidden--visually\" id=\"sk-estimator-id-6\" type=\"checkbox\" ><label for=\"sk-estimator-id-6\" class=\"sk-toggleable__label fitted sk-toggleable__label-arrow\"><div><div>SimpleImputer</div></div><div><a class=\"sk-estimator-doc-link fitted\" rel=\"noreferrer\" target=\"_blank\" href=\"https://scikit-learn.org/1.6/modules/generated/sklearn.impute.SimpleImputer.html\">?<span>Documentation for SimpleImputer</span></a></div></label><div class=\"sk-toggleable__content fitted\"><pre>SimpleImputer(strategy=&#x27;most_frequent&#x27;)</pre></div> </div></div><div class=\"sk-item\"><div class=\"sk-estimator fitted sk-toggleable\"><input class=\"sk-toggleable__control sk-hidden--visually\" id=\"sk-estimator-id-7\" type=\"checkbox\" ><label for=\"sk-estimator-id-7\" class=\"sk-toggleable__label fitted sk-toggleable__label-arrow\"><div><div>OneHotEncoder</div></div><div><a class=\"sk-estimator-doc-link fitted\" rel=\"noreferrer\" target=\"_blank\" href=\"https://scikit-learn.org/1.6/modules/generated/sklearn.preprocessing.OneHotEncoder.html\">?<span>Documentation for OneHotEncoder</span></a></div></label><div class=\"sk-toggleable__content fitted\"><pre>OneHotEncoder(drop=&#x27;first&#x27;, handle_unknown=&#x27;ignore&#x27;, sparse_output=False)</pre></div> </div></div></div></div></div></div></div></div></div></div></div>"
            ]
          },
          "metadata": {},
          "execution_count": 27
        }
      ]
    },
    {
      "cell_type": "markdown",
      "source": [
        "Step 6 Label Encoding-Text-Number form"
      ],
      "metadata": {
        "id": "cAXu1jZBmOec"
      }
    },
    {
      "cell_type": "code",
      "source": [
        "xtrain_pre=pre.transform(xtrain)\n",
        "xtrain_pre"
      ],
      "metadata": {
        "colab": {
          "base_uri": "https://localhost:8080/",
          "height": 444
        },
        "id": "bTnXzI04mYLX",
        "outputId": "c8175e26-06c7-406a-df9d-40b5e17df35a"
      },
      "execution_count": 28,
      "outputs": [
        {
          "output_type": "execute_result",
          "data": {
            "text/plain": [
              "       num__person_age  num__person_income  num__person_emp_length  \\\n",
              "14337         1.397825           -0.366415               -1.182680   \n",
              "17117        -0.091851           -0.542752               -0.429373   \n",
              "32590        -0.422891            0.152225               -1.182680   \n",
              "55811         1.894383            0.281885               -0.680475   \n",
              "40120        -0.919449           -0.480515                0.072832   \n",
              "...                ...                 ...                     ...   \n",
              "54343         2.887501           -0.107095               -0.931577   \n",
              "38158        -0.919449            0.152225               -0.931577   \n",
              "860           0.735746            0.670864               -1.182680   \n",
              "15795        -0.091851            1.189504               -0.680475   \n",
              "56422        -0.919449           -0.366415               -0.680475   \n",
              "\n",
              "       num__loan_amnt  num__loan_int_rate  num__loan_percent_income  \\\n",
              "14337       -0.359703            1.042717                 -0.205762   \n",
              "17117       -0.755235            0.321836                 -0.424086   \n",
              "32590       -0.215873           -0.922425                 -0.533248   \n",
              "55811        1.042639           -1.363513                  0.449211   \n",
              "40120       -0.935022           -0.994843                 -0.751573   \n",
              "...               ...                 ...                       ...   \n",
              "54343        1.042639           -0.099501                  0.995021   \n",
              "38158        0.143702           -1.337179                 -0.205762   \n",
              "860         -1.051884           -1.732183                 -1.406545   \n",
              "15795       -1.114809            0.838632                 -1.406545   \n",
              "56422       -0.755235           -0.010625                 -0.642411   \n",
              "\n",
              "       num__cb_person_cred_hist_length  cat__person_home_ownership_OTHER  \\\n",
              "14337                         2.274652                               0.0   \n",
              "17117                         0.787969                               0.0   \n",
              "32590                        -0.698714                               0.0   \n",
              "55811                         1.283530                               0.0   \n",
              "40120                        -0.946495                               0.0   \n",
              "...                                ...                               ...   \n",
              "54343                         2.522433                               0.0   \n",
              "38158                        -0.698714                               0.0   \n",
              "860                           0.044628                               0.0   \n",
              "15795                         0.787969                               0.0   \n",
              "56422                        -0.946495                               0.0   \n",
              "\n",
              "       cat__person_home_ownership_OWN  cat__person_home_ownership_RENT  ...  \\\n",
              "14337                             0.0                              1.0  ...   \n",
              "17117                             0.0                              1.0  ...   \n",
              "32590                             0.0                              0.0  ...   \n",
              "55811                             0.0                              0.0  ...   \n",
              "40120                             0.0                              1.0  ...   \n",
              "...                               ...                              ...  ...   \n",
              "54343                             0.0                              1.0  ...   \n",
              "38158                             0.0                              0.0  ...   \n",
              "860                               0.0                              0.0  ...   \n",
              "15795                             0.0                              0.0  ...   \n",
              "56422                             0.0                              1.0  ...   \n",
              "\n",
              "       cat__loan_intent_MEDICAL  cat__loan_intent_PERSONAL  \\\n",
              "14337                       0.0                        0.0   \n",
              "17117                       0.0                        0.0   \n",
              "32590                       0.0                        0.0   \n",
              "55811                       0.0                        0.0   \n",
              "40120                       1.0                        0.0   \n",
              "...                         ...                        ...   \n",
              "54343                       0.0                        0.0   \n",
              "38158                       1.0                        0.0   \n",
              "860                         0.0                        1.0   \n",
              "15795                       0.0                        0.0   \n",
              "56422                       0.0                        0.0   \n",
              "\n",
              "       cat__loan_intent_VENTURE  cat__loan_grade_B  cat__loan_grade_C  \\\n",
              "14337                       0.0                0.0                1.0   \n",
              "17117                       0.0                0.0                1.0   \n",
              "32590                       0.0                0.0                0.0   \n",
              "55811                       0.0                0.0                0.0   \n",
              "40120                       0.0                0.0                0.0   \n",
              "...                         ...                ...                ...   \n",
              "54343                       0.0                1.0                0.0   \n",
              "38158                       0.0                0.0                0.0   \n",
              "860                         0.0                0.0                0.0   \n",
              "15795                       0.0                0.0                1.0   \n",
              "56422                       1.0                1.0                0.0   \n",
              "\n",
              "       cat__loan_grade_D  cat__loan_grade_E  cat__loan_grade_F  \\\n",
              "14337                0.0                0.0                0.0   \n",
              "17117                0.0                0.0                0.0   \n",
              "32590                0.0                0.0                0.0   \n",
              "55811                0.0                0.0                0.0   \n",
              "40120                0.0                0.0                0.0   \n",
              "...                  ...                ...                ...   \n",
              "54343                0.0                0.0                0.0   \n",
              "38158                0.0                0.0                0.0   \n",
              "860                  0.0                0.0                0.0   \n",
              "15795                0.0                0.0                0.0   \n",
              "56422                0.0                0.0                0.0   \n",
              "\n",
              "       cat__loan_grade_G  cat__cb_person_default_on_file_Y  \n",
              "14337                0.0                               1.0  \n",
              "17117                0.0                               1.0  \n",
              "32590                0.0                               0.0  \n",
              "55811                0.0                               0.0  \n",
              "40120                0.0                               0.0  \n",
              "...                  ...                               ...  \n",
              "54343                0.0                               0.0  \n",
              "38158                0.0                               0.0  \n",
              "860                  0.0                               0.0  \n",
              "15795                0.0                               1.0  \n",
              "56422                0.0                               0.0  \n",
              "\n",
              "[46916 rows x 22 columns]"
            ],
            "text/html": [
              "\n",
              "  <div id=\"df-511f8daf-7be6-47aa-bdc5-6695e5b4a0ea\" class=\"colab-df-container\">\n",
              "    <div>\n",
              "<style scoped>\n",
              "    .dataframe tbody tr th:only-of-type {\n",
              "        vertical-align: middle;\n",
              "    }\n",
              "\n",
              "    .dataframe tbody tr th {\n",
              "        vertical-align: top;\n",
              "    }\n",
              "\n",
              "    .dataframe thead th {\n",
              "        text-align: right;\n",
              "    }\n",
              "</style>\n",
              "<table border=\"1\" class=\"dataframe\">\n",
              "  <thead>\n",
              "    <tr style=\"text-align: right;\">\n",
              "      <th></th>\n",
              "      <th>num__person_age</th>\n",
              "      <th>num__person_income</th>\n",
              "      <th>num__person_emp_length</th>\n",
              "      <th>num__loan_amnt</th>\n",
              "      <th>num__loan_int_rate</th>\n",
              "      <th>num__loan_percent_income</th>\n",
              "      <th>num__cb_person_cred_hist_length</th>\n",
              "      <th>cat__person_home_ownership_OTHER</th>\n",
              "      <th>cat__person_home_ownership_OWN</th>\n",
              "      <th>cat__person_home_ownership_RENT</th>\n",
              "      <th>...</th>\n",
              "      <th>cat__loan_intent_MEDICAL</th>\n",
              "      <th>cat__loan_intent_PERSONAL</th>\n",
              "      <th>cat__loan_intent_VENTURE</th>\n",
              "      <th>cat__loan_grade_B</th>\n",
              "      <th>cat__loan_grade_C</th>\n",
              "      <th>cat__loan_grade_D</th>\n",
              "      <th>cat__loan_grade_E</th>\n",
              "      <th>cat__loan_grade_F</th>\n",
              "      <th>cat__loan_grade_G</th>\n",
              "      <th>cat__cb_person_default_on_file_Y</th>\n",
              "    </tr>\n",
              "  </thead>\n",
              "  <tbody>\n",
              "    <tr>\n",
              "      <th>14337</th>\n",
              "      <td>1.397825</td>\n",
              "      <td>-0.366415</td>\n",
              "      <td>-1.182680</td>\n",
              "      <td>-0.359703</td>\n",
              "      <td>1.042717</td>\n",
              "      <td>-0.205762</td>\n",
              "      <td>2.274652</td>\n",
              "      <td>0.0</td>\n",
              "      <td>0.0</td>\n",
              "      <td>1.0</td>\n",
              "      <td>...</td>\n",
              "      <td>0.0</td>\n",
              "      <td>0.0</td>\n",
              "      <td>0.0</td>\n",
              "      <td>0.0</td>\n",
              "      <td>1.0</td>\n",
              "      <td>0.0</td>\n",
              "      <td>0.0</td>\n",
              "      <td>0.0</td>\n",
              "      <td>0.0</td>\n",
              "      <td>1.0</td>\n",
              "    </tr>\n",
              "    <tr>\n",
              "      <th>17117</th>\n",
              "      <td>-0.091851</td>\n",
              "      <td>-0.542752</td>\n",
              "      <td>-0.429373</td>\n",
              "      <td>-0.755235</td>\n",
              "      <td>0.321836</td>\n",
              "      <td>-0.424086</td>\n",
              "      <td>0.787969</td>\n",
              "      <td>0.0</td>\n",
              "      <td>0.0</td>\n",
              "      <td>1.0</td>\n",
              "      <td>...</td>\n",
              "      <td>0.0</td>\n",
              "      <td>0.0</td>\n",
              "      <td>0.0</td>\n",
              "      <td>0.0</td>\n",
              "      <td>1.0</td>\n",
              "      <td>0.0</td>\n",
              "      <td>0.0</td>\n",
              "      <td>0.0</td>\n",
              "      <td>0.0</td>\n",
              "      <td>1.0</td>\n",
              "    </tr>\n",
              "    <tr>\n",
              "      <th>32590</th>\n",
              "      <td>-0.422891</td>\n",
              "      <td>0.152225</td>\n",
              "      <td>-1.182680</td>\n",
              "      <td>-0.215873</td>\n",
              "      <td>-0.922425</td>\n",
              "      <td>-0.533248</td>\n",
              "      <td>-0.698714</td>\n",
              "      <td>0.0</td>\n",
              "      <td>0.0</td>\n",
              "      <td>0.0</td>\n",
              "      <td>...</td>\n",
              "      <td>0.0</td>\n",
              "      <td>0.0</td>\n",
              "      <td>0.0</td>\n",
              "      <td>0.0</td>\n",
              "      <td>0.0</td>\n",
              "      <td>0.0</td>\n",
              "      <td>0.0</td>\n",
              "      <td>0.0</td>\n",
              "      <td>0.0</td>\n",
              "      <td>0.0</td>\n",
              "    </tr>\n",
              "    <tr>\n",
              "      <th>55811</th>\n",
              "      <td>1.894383</td>\n",
              "      <td>0.281885</td>\n",
              "      <td>-0.680475</td>\n",
              "      <td>1.042639</td>\n",
              "      <td>-1.363513</td>\n",
              "      <td>0.449211</td>\n",
              "      <td>1.283530</td>\n",
              "      <td>0.0</td>\n",
              "      <td>0.0</td>\n",
              "      <td>0.0</td>\n",
              "      <td>...</td>\n",
              "      <td>0.0</td>\n",
              "      <td>0.0</td>\n",
              "      <td>0.0</td>\n",
              "      <td>0.0</td>\n",
              "      <td>0.0</td>\n",
              "      <td>0.0</td>\n",
              "      <td>0.0</td>\n",
              "      <td>0.0</td>\n",
              "      <td>0.0</td>\n",
              "      <td>0.0</td>\n",
              "    </tr>\n",
              "    <tr>\n",
              "      <th>40120</th>\n",
              "      <td>-0.919449</td>\n",
              "      <td>-0.480515</td>\n",
              "      <td>0.072832</td>\n",
              "      <td>-0.935022</td>\n",
              "      <td>-0.994843</td>\n",
              "      <td>-0.751573</td>\n",
              "      <td>-0.946495</td>\n",
              "      <td>0.0</td>\n",
              "      <td>0.0</td>\n",
              "      <td>1.0</td>\n",
              "      <td>...</td>\n",
              "      <td>1.0</td>\n",
              "      <td>0.0</td>\n",
              "      <td>0.0</td>\n",
              "      <td>0.0</td>\n",
              "      <td>0.0</td>\n",
              "      <td>0.0</td>\n",
              "      <td>0.0</td>\n",
              "      <td>0.0</td>\n",
              "      <td>0.0</td>\n",
              "      <td>0.0</td>\n",
              "    </tr>\n",
              "    <tr>\n",
              "      <th>...</th>\n",
              "      <td>...</td>\n",
              "      <td>...</td>\n",
              "      <td>...</td>\n",
              "      <td>...</td>\n",
              "      <td>...</td>\n",
              "      <td>...</td>\n",
              "      <td>...</td>\n",
              "      <td>...</td>\n",
              "      <td>...</td>\n",
              "      <td>...</td>\n",
              "      <td>...</td>\n",
              "      <td>...</td>\n",
              "      <td>...</td>\n",
              "      <td>...</td>\n",
              "      <td>...</td>\n",
              "      <td>...</td>\n",
              "      <td>...</td>\n",
              "      <td>...</td>\n",
              "      <td>...</td>\n",
              "      <td>...</td>\n",
              "      <td>...</td>\n",
              "    </tr>\n",
              "    <tr>\n",
              "      <th>54343</th>\n",
              "      <td>2.887501</td>\n",
              "      <td>-0.107095</td>\n",
              "      <td>-0.931577</td>\n",
              "      <td>1.042639</td>\n",
              "      <td>-0.099501</td>\n",
              "      <td>0.995021</td>\n",
              "      <td>2.522433</td>\n",
              "      <td>0.0</td>\n",
              "      <td>0.0</td>\n",
              "      <td>1.0</td>\n",
              "      <td>...</td>\n",
              "      <td>0.0</td>\n",
              "      <td>0.0</td>\n",
              "      <td>0.0</td>\n",
              "      <td>1.0</td>\n",
              "      <td>0.0</td>\n",
              "      <td>0.0</td>\n",
              "      <td>0.0</td>\n",
              "      <td>0.0</td>\n",
              "      <td>0.0</td>\n",
              "      <td>0.0</td>\n",
              "    </tr>\n",
              "    <tr>\n",
              "      <th>38158</th>\n",
              "      <td>-0.919449</td>\n",
              "      <td>0.152225</td>\n",
              "      <td>-0.931577</td>\n",
              "      <td>0.143702</td>\n",
              "      <td>-1.337179</td>\n",
              "      <td>-0.205762</td>\n",
              "      <td>-0.698714</td>\n",
              "      <td>0.0</td>\n",
              "      <td>0.0</td>\n",
              "      <td>0.0</td>\n",
              "      <td>...</td>\n",
              "      <td>1.0</td>\n",
              "      <td>0.0</td>\n",
              "      <td>0.0</td>\n",
              "      <td>0.0</td>\n",
              "      <td>0.0</td>\n",
              "      <td>0.0</td>\n",
              "      <td>0.0</td>\n",
              "      <td>0.0</td>\n",
              "      <td>0.0</td>\n",
              "      <td>0.0</td>\n",
              "    </tr>\n",
              "    <tr>\n",
              "      <th>860</th>\n",
              "      <td>0.735746</td>\n",
              "      <td>0.670864</td>\n",
              "      <td>-1.182680</td>\n",
              "      <td>-1.051884</td>\n",
              "      <td>-1.732183</td>\n",
              "      <td>-1.406545</td>\n",
              "      <td>0.044628</td>\n",
              "      <td>0.0</td>\n",
              "      <td>0.0</td>\n",
              "      <td>0.0</td>\n",
              "      <td>...</td>\n",
              "      <td>0.0</td>\n",
              "      <td>1.0</td>\n",
              "      <td>0.0</td>\n",
              "      <td>0.0</td>\n",
              "      <td>0.0</td>\n",
              "      <td>0.0</td>\n",
              "      <td>0.0</td>\n",
              "      <td>0.0</td>\n",
              "      <td>0.0</td>\n",
              "      <td>0.0</td>\n",
              "    </tr>\n",
              "    <tr>\n",
              "      <th>15795</th>\n",
              "      <td>-0.091851</td>\n",
              "      <td>1.189504</td>\n",
              "      <td>-0.680475</td>\n",
              "      <td>-1.114809</td>\n",
              "      <td>0.838632</td>\n",
              "      <td>-1.406545</td>\n",
              "      <td>0.787969</td>\n",
              "      <td>0.0</td>\n",
              "      <td>0.0</td>\n",
              "      <td>0.0</td>\n",
              "      <td>...</td>\n",
              "      <td>0.0</td>\n",
              "      <td>0.0</td>\n",
              "      <td>0.0</td>\n",
              "      <td>0.0</td>\n",
              "      <td>1.0</td>\n",
              "      <td>0.0</td>\n",
              "      <td>0.0</td>\n",
              "      <td>0.0</td>\n",
              "      <td>0.0</td>\n",
              "      <td>1.0</td>\n",
              "    </tr>\n",
              "    <tr>\n",
              "      <th>56422</th>\n",
              "      <td>-0.919449</td>\n",
              "      <td>-0.366415</td>\n",
              "      <td>-0.680475</td>\n",
              "      <td>-0.755235</td>\n",
              "      <td>-0.010625</td>\n",
              "      <td>-0.642411</td>\n",
              "      <td>-0.946495</td>\n",
              "      <td>0.0</td>\n",
              "      <td>0.0</td>\n",
              "      <td>1.0</td>\n",
              "      <td>...</td>\n",
              "      <td>0.0</td>\n",
              "      <td>0.0</td>\n",
              "      <td>1.0</td>\n",
              "      <td>1.0</td>\n",
              "      <td>0.0</td>\n",
              "      <td>0.0</td>\n",
              "      <td>0.0</td>\n",
              "      <td>0.0</td>\n",
              "      <td>0.0</td>\n",
              "      <td>0.0</td>\n",
              "    </tr>\n",
              "  </tbody>\n",
              "</table>\n",
              "<p>46916 rows × 22 columns</p>\n",
              "</div>\n",
              "    <div class=\"colab-df-buttons\">\n",
              "\n",
              "  <div class=\"colab-df-container\">\n",
              "    <button class=\"colab-df-convert\" onclick=\"convertToInteractive('df-511f8daf-7be6-47aa-bdc5-6695e5b4a0ea')\"\n",
              "            title=\"Convert this dataframe to an interactive table.\"\n",
              "            style=\"display:none;\">\n",
              "\n",
              "  <svg xmlns=\"http://www.w3.org/2000/svg\" height=\"24px\" viewBox=\"0 -960 960 960\">\n",
              "    <path d=\"M120-120v-720h720v720H120Zm60-500h600v-160H180v160Zm220 220h160v-160H400v160Zm0 220h160v-160H400v160ZM180-400h160v-160H180v160Zm440 0h160v-160H620v160ZM180-180h160v-160H180v160Zm440 0h160v-160H620v160Z\"/>\n",
              "  </svg>\n",
              "    </button>\n",
              "\n",
              "  <style>\n",
              "    .colab-df-container {\n",
              "      display:flex;\n",
              "      gap: 12px;\n",
              "    }\n",
              "\n",
              "    .colab-df-convert {\n",
              "      background-color: #E8F0FE;\n",
              "      border: none;\n",
              "      border-radius: 50%;\n",
              "      cursor: pointer;\n",
              "      display: none;\n",
              "      fill: #1967D2;\n",
              "      height: 32px;\n",
              "      padding: 0 0 0 0;\n",
              "      width: 32px;\n",
              "    }\n",
              "\n",
              "    .colab-df-convert:hover {\n",
              "      background-color: #E2EBFA;\n",
              "      box-shadow: 0px 1px 2px rgba(60, 64, 67, 0.3), 0px 1px 3px 1px rgba(60, 64, 67, 0.15);\n",
              "      fill: #174EA6;\n",
              "    }\n",
              "\n",
              "    .colab-df-buttons div {\n",
              "      margin-bottom: 4px;\n",
              "    }\n",
              "\n",
              "    [theme=dark] .colab-df-convert {\n",
              "      background-color: #3B4455;\n",
              "      fill: #D2E3FC;\n",
              "    }\n",
              "\n",
              "    [theme=dark] .colab-df-convert:hover {\n",
              "      background-color: #434B5C;\n",
              "      box-shadow: 0px 1px 3px 1px rgba(0, 0, 0, 0.15);\n",
              "      filter: drop-shadow(0px 1px 2px rgba(0, 0, 0, 0.3));\n",
              "      fill: #FFFFFF;\n",
              "    }\n",
              "  </style>\n",
              "\n",
              "    <script>\n",
              "      const buttonEl =\n",
              "        document.querySelector('#df-511f8daf-7be6-47aa-bdc5-6695e5b4a0ea button.colab-df-convert');\n",
              "      buttonEl.style.display =\n",
              "        google.colab.kernel.accessAllowed ? 'block' : 'none';\n",
              "\n",
              "      async function convertToInteractive(key) {\n",
              "        const element = document.querySelector('#df-511f8daf-7be6-47aa-bdc5-6695e5b4a0ea');\n",
              "        const dataTable =\n",
              "          await google.colab.kernel.invokeFunction('convertToInteractive',\n",
              "                                                    [key], {});\n",
              "        if (!dataTable) return;\n",
              "\n",
              "        const docLinkHtml = 'Like what you see? Visit the ' +\n",
              "          '<a target=\"_blank\" href=https://colab.research.google.com/notebooks/data_table.ipynb>data table notebook</a>'\n",
              "          + ' to learn more about interactive tables.';\n",
              "        element.innerHTML = '';\n",
              "        dataTable['output_type'] = 'display_data';\n",
              "        await google.colab.output.renderOutput(dataTable, element);\n",
              "        const docLink = document.createElement('div');\n",
              "        docLink.innerHTML = docLinkHtml;\n",
              "        element.appendChild(docLink);\n",
              "      }\n",
              "    </script>\n",
              "  </div>\n",
              "\n",
              "\n",
              "    <div id=\"df-d2035234-d406-461e-ac57-4007dac72949\">\n",
              "      <button class=\"colab-df-quickchart\" onclick=\"quickchart('df-d2035234-d406-461e-ac57-4007dac72949')\"\n",
              "                title=\"Suggest charts\"\n",
              "                style=\"display:none;\">\n",
              "\n",
              "<svg xmlns=\"http://www.w3.org/2000/svg\" height=\"24px\"viewBox=\"0 0 24 24\"\n",
              "     width=\"24px\">\n",
              "    <g>\n",
              "        <path d=\"M19 3H5c-1.1 0-2 .9-2 2v14c0 1.1.9 2 2 2h14c1.1 0 2-.9 2-2V5c0-1.1-.9-2-2-2zM9 17H7v-7h2v7zm4 0h-2V7h2v10zm4 0h-2v-4h2v4z\"/>\n",
              "    </g>\n",
              "</svg>\n",
              "      </button>\n",
              "\n",
              "<style>\n",
              "  .colab-df-quickchart {\n",
              "      --bg-color: #E8F0FE;\n",
              "      --fill-color: #1967D2;\n",
              "      --hover-bg-color: #E2EBFA;\n",
              "      --hover-fill-color: #174EA6;\n",
              "      --disabled-fill-color: #AAA;\n",
              "      --disabled-bg-color: #DDD;\n",
              "  }\n",
              "\n",
              "  [theme=dark] .colab-df-quickchart {\n",
              "      --bg-color: #3B4455;\n",
              "      --fill-color: #D2E3FC;\n",
              "      --hover-bg-color: #434B5C;\n",
              "      --hover-fill-color: #FFFFFF;\n",
              "      --disabled-bg-color: #3B4455;\n",
              "      --disabled-fill-color: #666;\n",
              "  }\n",
              "\n",
              "  .colab-df-quickchart {\n",
              "    background-color: var(--bg-color);\n",
              "    border: none;\n",
              "    border-radius: 50%;\n",
              "    cursor: pointer;\n",
              "    display: none;\n",
              "    fill: var(--fill-color);\n",
              "    height: 32px;\n",
              "    padding: 0;\n",
              "    width: 32px;\n",
              "  }\n",
              "\n",
              "  .colab-df-quickchart:hover {\n",
              "    background-color: var(--hover-bg-color);\n",
              "    box-shadow: 0 1px 2px rgba(60, 64, 67, 0.3), 0 1px 3px 1px rgba(60, 64, 67, 0.15);\n",
              "    fill: var(--button-hover-fill-color);\n",
              "  }\n",
              "\n",
              "  .colab-df-quickchart-complete:disabled,\n",
              "  .colab-df-quickchart-complete:disabled:hover {\n",
              "    background-color: var(--disabled-bg-color);\n",
              "    fill: var(--disabled-fill-color);\n",
              "    box-shadow: none;\n",
              "  }\n",
              "\n",
              "  .colab-df-spinner {\n",
              "    border: 2px solid var(--fill-color);\n",
              "    border-color: transparent;\n",
              "    border-bottom-color: var(--fill-color);\n",
              "    animation:\n",
              "      spin 1s steps(1) infinite;\n",
              "  }\n",
              "\n",
              "  @keyframes spin {\n",
              "    0% {\n",
              "      border-color: transparent;\n",
              "      border-bottom-color: var(--fill-color);\n",
              "      border-left-color: var(--fill-color);\n",
              "    }\n",
              "    20% {\n",
              "      border-color: transparent;\n",
              "      border-left-color: var(--fill-color);\n",
              "      border-top-color: var(--fill-color);\n",
              "    }\n",
              "    30% {\n",
              "      border-color: transparent;\n",
              "      border-left-color: var(--fill-color);\n",
              "      border-top-color: var(--fill-color);\n",
              "      border-right-color: var(--fill-color);\n",
              "    }\n",
              "    40% {\n",
              "      border-color: transparent;\n",
              "      border-right-color: var(--fill-color);\n",
              "      border-top-color: var(--fill-color);\n",
              "    }\n",
              "    60% {\n",
              "      border-color: transparent;\n",
              "      border-right-color: var(--fill-color);\n",
              "    }\n",
              "    80% {\n",
              "      border-color: transparent;\n",
              "      border-right-color: var(--fill-color);\n",
              "      border-bottom-color: var(--fill-color);\n",
              "    }\n",
              "    90% {\n",
              "      border-color: transparent;\n",
              "      border-bottom-color: var(--fill-color);\n",
              "    }\n",
              "  }\n",
              "</style>\n",
              "\n",
              "      <script>\n",
              "        async function quickchart(key) {\n",
              "          const quickchartButtonEl =\n",
              "            document.querySelector('#' + key + ' button');\n",
              "          quickchartButtonEl.disabled = true;  // To prevent multiple clicks.\n",
              "          quickchartButtonEl.classList.add('colab-df-spinner');\n",
              "          try {\n",
              "            const charts = await google.colab.kernel.invokeFunction(\n",
              "                'suggestCharts', [key], {});\n",
              "          } catch (error) {\n",
              "            console.error('Error during call to suggestCharts:', error);\n",
              "          }\n",
              "          quickchartButtonEl.classList.remove('colab-df-spinner');\n",
              "          quickchartButtonEl.classList.add('colab-df-quickchart-complete');\n",
              "        }\n",
              "        (() => {\n",
              "          let quickchartButtonEl =\n",
              "            document.querySelector('#df-d2035234-d406-461e-ac57-4007dac72949 button');\n",
              "          quickchartButtonEl.style.display =\n",
              "            google.colab.kernel.accessAllowed ? 'block' : 'none';\n",
              "        })();\n",
              "      </script>\n",
              "    </div>\n",
              "\n",
              "  <div id=\"id_c951065b-4867-483b-8f2e-4e8dfc32b4d7\">\n",
              "    <style>\n",
              "      .colab-df-generate {\n",
              "        background-color: #E8F0FE;\n",
              "        border: none;\n",
              "        border-radius: 50%;\n",
              "        cursor: pointer;\n",
              "        display: none;\n",
              "        fill: #1967D2;\n",
              "        height: 32px;\n",
              "        padding: 0 0 0 0;\n",
              "        width: 32px;\n",
              "      }\n",
              "\n",
              "      .colab-df-generate:hover {\n",
              "        background-color: #E2EBFA;\n",
              "        box-shadow: 0px 1px 2px rgba(60, 64, 67, 0.3), 0px 1px 3px 1px rgba(60, 64, 67, 0.15);\n",
              "        fill: #174EA6;\n",
              "      }\n",
              "\n",
              "      [theme=dark] .colab-df-generate {\n",
              "        background-color: #3B4455;\n",
              "        fill: #D2E3FC;\n",
              "      }\n",
              "\n",
              "      [theme=dark] .colab-df-generate:hover {\n",
              "        background-color: #434B5C;\n",
              "        box-shadow: 0px 1px 3px 1px rgba(0, 0, 0, 0.15);\n",
              "        filter: drop-shadow(0px 1px 2px rgba(0, 0, 0, 0.3));\n",
              "        fill: #FFFFFF;\n",
              "      }\n",
              "    </style>\n",
              "    <button class=\"colab-df-generate\" onclick=\"generateWithVariable('xtrain_pre')\"\n",
              "            title=\"Generate code using this dataframe.\"\n",
              "            style=\"display:none;\">\n",
              "\n",
              "  <svg xmlns=\"http://www.w3.org/2000/svg\" height=\"24px\"viewBox=\"0 0 24 24\"\n",
              "       width=\"24px\">\n",
              "    <path d=\"M7,19H8.4L18.45,9,17,7.55,7,17.6ZM5,21V16.75L18.45,3.32a2,2,0,0,1,2.83,0l1.4,1.43a1.91,1.91,0,0,1,.58,1.4,1.91,1.91,0,0,1-.58,1.4L9.25,21ZM18.45,9,17,7.55Zm-12,3A5.31,5.31,0,0,0,4.9,8.1,5.31,5.31,0,0,0,1,6.5,5.31,5.31,0,0,0,4.9,4.9,5.31,5.31,0,0,0,6.5,1,5.31,5.31,0,0,0,8.1,4.9,5.31,5.31,0,0,0,12,6.5,5.46,5.46,0,0,0,6.5,12Z\"/>\n",
              "  </svg>\n",
              "    </button>\n",
              "    <script>\n",
              "      (() => {\n",
              "      const buttonEl =\n",
              "        document.querySelector('#id_c951065b-4867-483b-8f2e-4e8dfc32b4d7 button.colab-df-generate');\n",
              "      buttonEl.style.display =\n",
              "        google.colab.kernel.accessAllowed ? 'block' : 'none';\n",
              "\n",
              "      buttonEl.onclick = () => {\n",
              "        google.colab.notebook.generateWithVariable('xtrain_pre');\n",
              "      }\n",
              "      })();\n",
              "    </script>\n",
              "  </div>\n",
              "\n",
              "    </div>\n",
              "  </div>\n"
            ],
            "application/vnd.google.colaboratory.intrinsic+json": {
              "type": "dataframe",
              "variable_name": "xtrain_pre"
            }
          },
          "metadata": {},
          "execution_count": 28
        }
      ]
    },
    {
      "cell_type": "code",
      "source": [
        "xtest_pre=pre.transform(xtest)\n",
        "xtest_pre"
      ],
      "metadata": {
        "id": "uLfAZDy8mkw0",
        "colab": {
          "base_uri": "https://localhost:8080/",
          "height": 321
        },
        "outputId": "88f34629-d98d-4a8f-85cf-bfde92980e08"
      },
      "execution_count": 38,
      "outputs": [
        {
          "output_type": "error",
          "ename": "ValueError",
          "evalue": "columns are missing: {'loan_intent', 'person_emp_length', 'loan_percent_income', 'person_age', 'loan_grade', 'cb_person_default_on_file', 'loan_int_rate', 'person_home_ownership', 'person_income', 'cb_person_cred_hist_length', 'loan_amnt'}",
          "traceback": [
            "\u001b[0;31m---------------------------------------------------------------------------\u001b[0m",
            "\u001b[0;31mValueError\u001b[0m                                Traceback (most recent call last)",
            "\u001b[0;32m/tmp/ipython-input-1671353524.py\u001b[0m in \u001b[0;36m<cell line: 0>\u001b[0;34m()\u001b[0m\n\u001b[0;32m----> 1\u001b[0;31m \u001b[0mxtest_pre\u001b[0m\u001b[0;34m=\u001b[0m\u001b[0mpre\u001b[0m\u001b[0;34m.\u001b[0m\u001b[0mtransform\u001b[0m\u001b[0;34m(\u001b[0m\u001b[0mxtest\u001b[0m\u001b[0;34m)\u001b[0m\u001b[0;34m\u001b[0m\u001b[0;34m\u001b[0m\u001b[0m\n\u001b[0m\u001b[1;32m      2\u001b[0m \u001b[0mxtest_pre\u001b[0m\u001b[0;34m\u001b[0m\u001b[0;34m\u001b[0m\u001b[0m\n",
            "\u001b[0;32m/usr/local/lib/python3.12/dist-packages/sklearn/utils/_set_output.py\u001b[0m in \u001b[0;36mwrapped\u001b[0;34m(self, X, *args, **kwargs)\u001b[0m\n\u001b[1;32m    317\u001b[0m     \u001b[0;34m@\u001b[0m\u001b[0mwraps\u001b[0m\u001b[0;34m(\u001b[0m\u001b[0mf\u001b[0m\u001b[0;34m)\u001b[0m\u001b[0;34m\u001b[0m\u001b[0;34m\u001b[0m\u001b[0m\n\u001b[1;32m    318\u001b[0m     \u001b[0;32mdef\u001b[0m \u001b[0mwrapped\u001b[0m\u001b[0;34m(\u001b[0m\u001b[0mself\u001b[0m\u001b[0;34m,\u001b[0m \u001b[0mX\u001b[0m\u001b[0;34m,\u001b[0m \u001b[0;34m*\u001b[0m\u001b[0margs\u001b[0m\u001b[0;34m,\u001b[0m \u001b[0;34m**\u001b[0m\u001b[0mkwargs\u001b[0m\u001b[0;34m)\u001b[0m\u001b[0;34m:\u001b[0m\u001b[0;34m\u001b[0m\u001b[0;34m\u001b[0m\u001b[0m\n\u001b[0;32m--> 319\u001b[0;31m         \u001b[0mdata_to_wrap\u001b[0m \u001b[0;34m=\u001b[0m \u001b[0mf\u001b[0m\u001b[0;34m(\u001b[0m\u001b[0mself\u001b[0m\u001b[0;34m,\u001b[0m \u001b[0mX\u001b[0m\u001b[0;34m,\u001b[0m \u001b[0;34m*\u001b[0m\u001b[0margs\u001b[0m\u001b[0;34m,\u001b[0m \u001b[0;34m**\u001b[0m\u001b[0mkwargs\u001b[0m\u001b[0;34m)\u001b[0m\u001b[0;34m\u001b[0m\u001b[0;34m\u001b[0m\u001b[0m\n\u001b[0m\u001b[1;32m    320\u001b[0m         \u001b[0;32mif\u001b[0m \u001b[0misinstance\u001b[0m\u001b[0;34m(\u001b[0m\u001b[0mdata_to_wrap\u001b[0m\u001b[0;34m,\u001b[0m \u001b[0mtuple\u001b[0m\u001b[0;34m)\u001b[0m\u001b[0;34m:\u001b[0m\u001b[0;34m\u001b[0m\u001b[0;34m\u001b[0m\u001b[0m\n\u001b[1;32m    321\u001b[0m             \u001b[0;31m# only wrap the first output for cross decomposition\u001b[0m\u001b[0;34m\u001b[0m\u001b[0;34m\u001b[0m\u001b[0m\n",
            "\u001b[0;32m/usr/local/lib/python3.12/dist-packages/sklearn/compose/_column_transformer.py\u001b[0m in \u001b[0;36mtransform\u001b[0;34m(self, X, **params)\u001b[0m\n\u001b[1;32m   1088\u001b[0m             \u001b[0mdiff\u001b[0m \u001b[0;34m=\u001b[0m \u001b[0mall_names\u001b[0m \u001b[0;34m-\u001b[0m \u001b[0mset\u001b[0m\u001b[0;34m(\u001b[0m\u001b[0mcolumn_names\u001b[0m\u001b[0;34m)\u001b[0m\u001b[0;34m\u001b[0m\u001b[0;34m\u001b[0m\u001b[0m\n\u001b[1;32m   1089\u001b[0m             \u001b[0;32mif\u001b[0m \u001b[0mdiff\u001b[0m\u001b[0;34m:\u001b[0m\u001b[0;34m\u001b[0m\u001b[0;34m\u001b[0m\u001b[0m\n\u001b[0;32m-> 1090\u001b[0;31m                 \u001b[0;32mraise\u001b[0m \u001b[0mValueError\u001b[0m\u001b[0;34m(\u001b[0m\u001b[0;34mf\"columns are missing: {diff}\"\u001b[0m\u001b[0;34m)\u001b[0m\u001b[0;34m\u001b[0m\u001b[0;34m\u001b[0m\u001b[0m\n\u001b[0m\u001b[1;32m   1091\u001b[0m         \u001b[0;32melse\u001b[0m\u001b[0;34m:\u001b[0m\u001b[0;34m\u001b[0m\u001b[0;34m\u001b[0m\u001b[0m\n\u001b[1;32m   1092\u001b[0m             \u001b[0;31m# ndarray was used for fitting or transforming, thus we only\u001b[0m\u001b[0;34m\u001b[0m\u001b[0;34m\u001b[0m\u001b[0m\n",
            "\u001b[0;31mValueError\u001b[0m: columns are missing: {'loan_intent', 'person_emp_length', 'loan_percent_income', 'person_age', 'loan_grade', 'cb_person_default_on_file', 'loan_int_rate', 'person_home_ownership', 'person_income', 'cb_person_cred_hist_length', 'loan_amnt'}"
          ]
        }
      ]
    },
    {
      "cell_type": "markdown",
      "source": [
        "Step 7 Model Training"
      ],
      "metadata": {
        "id": "-2sDY80n_HqN"
      }
    },
    {
      "cell_type": "markdown",
      "source": [
        "To avoid overfitting:\n",
        "1. Dropout layer\n",
        "2. early Stopping - Stop at that point where validation loss start increasing.\n",
        "3. l1/l2 Regularization\n"
      ],
      "metadata": {
        "id": "1Hq00EWWAzqh"
      }
    },
    {
      "cell_type": "markdown",
      "source": [
        "![image.png](data:image/png;base64,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)"
      ],
      "metadata": {
        "id": "nRV_qbzMAr-m"
      }
    },
    {
      "cell_type": "markdown",
      "source": [
        "#early stopping\n",
        "![image.png](data:image/png;base64,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)"
      ],
      "metadata": {
        "id": "tKDD4GU1C0I5"
      }
    },
    {
      "cell_type": "code",
      "source": [
        "from tensorflow.keras import Sequential\n",
        "from tensorflow.keras.layers import Input,Dense,Dropout\n",
        "from tensorflow.keras.regularizers import l2\n",
        "from tensorflow.keras.callbacks import EarlyStopping"
      ],
      "metadata": {
        "id": "wHePDHRcC3HD"
      },
      "execution_count": 30,
      "outputs": []
    },
    {
      "cell_type": "code",
      "source": [
        "model=Sequential(\n",
        "    layers=[\n",
        "        Input(shape=(xtrain_pre.shape[1],)),\n",
        "        Dense(32,activation='relu',kernel_regularizer=l2(0.01)),\n",
        "        Dropout(0.3),\n",
        "        Dense(16,activation='relu',kernel_regularizer=l2(0.01)),\n",
        "        Dropout(0.3),\n",
        "        Dense(1,activation='sigmoid')\n",
        "    ]\n",
        ")"
      ],
      "metadata": {
        "id": "6Gss9lGRVhkg"
      },
      "execution_count": 31,
      "outputs": []
    },
    {
      "cell_type": "code",
      "source": [
        "model.summary()"
      ],
      "metadata": {
        "id": "mT_ZsfbxWUcm",
        "outputId": "40f60f1e-ef67-4972-b3cd-a622f4c2c285",
        "colab": {
          "base_uri": "https://localhost:8080/",
          "height": 306
        }
      },
      "execution_count": 32,
      "outputs": [
        {
          "output_type": "display_data",
          "data": {
            "text/plain": [
              "\u001b[1mModel: \"sequential\"\u001b[0m\n"
            ],
            "text/html": [
              "<pre style=\"white-space:pre;overflow-x:auto;line-height:normal;font-family:Menlo,'DejaVu Sans Mono',consolas,'Courier New',monospace\"><span style=\"font-weight: bold\">Model: \"sequential\"</span>\n",
              "</pre>\n"
            ]
          },
          "metadata": {}
        },
        {
          "output_type": "display_data",
          "data": {
            "text/plain": [
              "┏━━━━━━━━━━━━━━━━━━━━━━━━━━━━━━━━━┳━━━━━━━━━━━━━━━━━━━━━━━━┳━━━━━━━━━━━━━━━┓\n",
              "┃\u001b[1m \u001b[0m\u001b[1mLayer (type)                   \u001b[0m\u001b[1m \u001b[0m┃\u001b[1m \u001b[0m\u001b[1mOutput Shape          \u001b[0m\u001b[1m \u001b[0m┃\u001b[1m \u001b[0m\u001b[1m      Param #\u001b[0m\u001b[1m \u001b[0m┃\n",
              "┡━━━━━━━━━━━━━━━━━━━━━━━━━━━━━━━━━╇━━━━━━━━━━━━━━━━━━━━━━━━╇━━━━━━━━━━━━━━━┩\n",
              "│ dense (\u001b[38;5;33mDense\u001b[0m)                   │ (\u001b[38;5;45mNone\u001b[0m, \u001b[38;5;34m32\u001b[0m)             │           \u001b[38;5;34m736\u001b[0m │\n",
              "├─────────────────────────────────┼────────────────────────┼───────────────┤\n",
              "│ dropout (\u001b[38;5;33mDropout\u001b[0m)               │ (\u001b[38;5;45mNone\u001b[0m, \u001b[38;5;34m32\u001b[0m)             │             \u001b[38;5;34m0\u001b[0m │\n",
              "├─────────────────────────────────┼────────────────────────┼───────────────┤\n",
              "│ dense_1 (\u001b[38;5;33mDense\u001b[0m)                 │ (\u001b[38;5;45mNone\u001b[0m, \u001b[38;5;34m16\u001b[0m)             │           \u001b[38;5;34m528\u001b[0m │\n",
              "├─────────────────────────────────┼────────────────────────┼───────────────┤\n",
              "│ dropout_1 (\u001b[38;5;33mDropout\u001b[0m)             │ (\u001b[38;5;45mNone\u001b[0m, \u001b[38;5;34m16\u001b[0m)             │             \u001b[38;5;34m0\u001b[0m │\n",
              "├─────────────────────────────────┼────────────────────────┼───────────────┤\n",
              "│ dense_2 (\u001b[38;5;33mDense\u001b[0m)                 │ (\u001b[38;5;45mNone\u001b[0m, \u001b[38;5;34m1\u001b[0m)              │            \u001b[38;5;34m17\u001b[0m │\n",
              "└─────────────────────────────────┴────────────────────────┴───────────────┘\n"
            ],
            "text/html": [
              "<pre style=\"white-space:pre;overflow-x:auto;line-height:normal;font-family:Menlo,'DejaVu Sans Mono',consolas,'Courier New',monospace\">┏━━━━━━━━━━━━━━━━━━━━━━━━━━━━━━━━━┳━━━━━━━━━━━━━━━━━━━━━━━━┳━━━━━━━━━━━━━━━┓\n",
              "┃<span style=\"font-weight: bold\"> Layer (type)                    </span>┃<span style=\"font-weight: bold\"> Output Shape           </span>┃<span style=\"font-weight: bold\">       Param # </span>┃\n",
              "┡━━━━━━━━━━━━━━━━━━━━━━━━━━━━━━━━━╇━━━━━━━━━━━━━━━━━━━━━━━━╇━━━━━━━━━━━━━━━┩\n",
              "│ dense (<span style=\"color: #0087ff; text-decoration-color: #0087ff\">Dense</span>)                   │ (<span style=\"color: #00d7ff; text-decoration-color: #00d7ff\">None</span>, <span style=\"color: #00af00; text-decoration-color: #00af00\">32</span>)             │           <span style=\"color: #00af00; text-decoration-color: #00af00\">736</span> │\n",
              "├─────────────────────────────────┼────────────────────────┼───────────────┤\n",
              "│ dropout (<span style=\"color: #0087ff; text-decoration-color: #0087ff\">Dropout</span>)               │ (<span style=\"color: #00d7ff; text-decoration-color: #00d7ff\">None</span>, <span style=\"color: #00af00; text-decoration-color: #00af00\">32</span>)             │             <span style=\"color: #00af00; text-decoration-color: #00af00\">0</span> │\n",
              "├─────────────────────────────────┼────────────────────────┼───────────────┤\n",
              "│ dense_1 (<span style=\"color: #0087ff; text-decoration-color: #0087ff\">Dense</span>)                 │ (<span style=\"color: #00d7ff; text-decoration-color: #00d7ff\">None</span>, <span style=\"color: #00af00; text-decoration-color: #00af00\">16</span>)             │           <span style=\"color: #00af00; text-decoration-color: #00af00\">528</span> │\n",
              "├─────────────────────────────────┼────────────────────────┼───────────────┤\n",
              "│ dropout_1 (<span style=\"color: #0087ff; text-decoration-color: #0087ff\">Dropout</span>)             │ (<span style=\"color: #00d7ff; text-decoration-color: #00d7ff\">None</span>, <span style=\"color: #00af00; text-decoration-color: #00af00\">16</span>)             │             <span style=\"color: #00af00; text-decoration-color: #00af00\">0</span> │\n",
              "├─────────────────────────────────┼────────────────────────┼───────────────┤\n",
              "│ dense_2 (<span style=\"color: #0087ff; text-decoration-color: #0087ff\">Dense</span>)                 │ (<span style=\"color: #00d7ff; text-decoration-color: #00d7ff\">None</span>, <span style=\"color: #00af00; text-decoration-color: #00af00\">1</span>)              │            <span style=\"color: #00af00; text-decoration-color: #00af00\">17</span> │\n",
              "└─────────────────────────────────┴────────────────────────┴───────────────┘\n",
              "</pre>\n"
            ]
          },
          "metadata": {}
        },
        {
          "output_type": "display_data",
          "data": {
            "text/plain": [
              "\u001b[1m Total params: \u001b[0m\u001b[38;5;34m1,281\u001b[0m (5.00 KB)\n"
            ],
            "text/html": [
              "<pre style=\"white-space:pre;overflow-x:auto;line-height:normal;font-family:Menlo,'DejaVu Sans Mono',consolas,'Courier New',monospace\"><span style=\"font-weight: bold\"> Total params: </span><span style=\"color: #00af00; text-decoration-color: #00af00\">1,281</span> (5.00 KB)\n",
              "</pre>\n"
            ]
          },
          "metadata": {}
        },
        {
          "output_type": "display_data",
          "data": {
            "text/plain": [
              "\u001b[1m Trainable params: \u001b[0m\u001b[38;5;34m1,281\u001b[0m (5.00 KB)\n"
            ],
            "text/html": [
              "<pre style=\"white-space:pre;overflow-x:auto;line-height:normal;font-family:Menlo,'DejaVu Sans Mono',consolas,'Courier New',monospace\"><span style=\"font-weight: bold\"> Trainable params: </span><span style=\"color: #00af00; text-decoration-color: #00af00\">1,281</span> (5.00 KB)\n",
              "</pre>\n"
            ]
          },
          "metadata": {}
        },
        {
          "output_type": "display_data",
          "data": {
            "text/plain": [
              "\u001b[1m Non-trainable params: \u001b[0m\u001b[38;5;34m0\u001b[0m (0.00 B)\n"
            ],
            "text/html": [
              "<pre style=\"white-space:pre;overflow-x:auto;line-height:normal;font-family:Menlo,'DejaVu Sans Mono',consolas,'Courier New',monospace\"><span style=\"font-weight: bold\"> Non-trainable params: </span><span style=\"color: #00af00; text-decoration-color: #00af00\">0</span> (0.00 B)\n",
              "</pre>\n"
            ]
          },
          "metadata": {}
        }
      ]
    },
    {
      "cell_type": "markdown",
      "source": [
        "Step 8 Compile Model"
      ],
      "metadata": {
        "id": "C7tR9QeLWpai"
      }
    },
    {
      "cell_type": "code",
      "source": [
        "model.compile(optimizer='adam',loss='binary_crossentropy',metrics=['auc'])"
      ],
      "metadata": {
        "id": "PAJ8XmgOWe50"
      },
      "execution_count": 33,
      "outputs": []
    },
    {
      "cell_type": "code",
      "source": [
        "es=EarlyStopping(monitor='val_loss',patience=5,restore_best_weights=True)"
      ],
      "metadata": {
        "id": "wduE19SLW59k"
      },
      "execution_count": 34,
      "outputs": []
    },
    {
      "cell_type": "code",
      "source": [
        "hist=model.fit(xtrain_pre,ytrain,epochs=100,validation_split=0.2,callbacks=[es])"
      ],
      "metadata": {
        "id": "ftCySZyUW_Wl",
        "outputId": "84ef4607-189c-4eeb-aee7-c036428f5d71",
        "colab": {
          "base_uri": "https://localhost:8080/"
        }
      },
      "execution_count": 35,
      "outputs": [
        {
          "output_type": "stream",
          "name": "stdout",
          "text": [
            "Epoch 1/100\n",
            "\u001b[1m1173/1173\u001b[0m \u001b[32m━━━━━━━━━━━━━━━━━━━━\u001b[0m\u001b[37m\u001b[0m \u001b[1m11s\u001b[0m 6ms/step - auc: 0.7701 - loss: 0.5696 - val_auc: 0.8979 - val_loss: 0.2854\n",
            "Epoch 2/100\n",
            "\u001b[1m1173/1173\u001b[0m \u001b[32m━━━━━━━━━━━━━━━━━━━━\u001b[0m\u001b[37m\u001b[0m \u001b[1m3s\u001b[0m 3ms/step - auc: 0.8883 - loss: 0.2891 - val_auc: 0.9033 - val_loss: 0.2656\n",
            "Epoch 3/100\n",
            "\u001b[1m1173/1173\u001b[0m \u001b[32m━━━━━━━━━━━━━━━━━━━━\u001b[0m\u001b[37m\u001b[0m \u001b[1m4s\u001b[0m 3ms/step - auc: 0.8950 - loss: 0.2740 - val_auc: 0.9047 - val_loss: 0.2609\n",
            "Epoch 4/100\n",
            "\u001b[1m1173/1173\u001b[0m \u001b[32m━━━━━━━━━━━━━━━━━━━━\u001b[0m\u001b[37m\u001b[0m \u001b[1m5s\u001b[0m 3ms/step - auc: 0.8905 - loss: 0.2761 - val_auc: 0.9048 - val_loss: 0.2569\n",
            "Epoch 5/100\n",
            "\u001b[1m1173/1173\u001b[0m \u001b[32m━━━━━━━━━━━━━━━━━━━━\u001b[0m\u001b[37m\u001b[0m \u001b[1m3s\u001b[0m 3ms/step - auc: 0.8947 - loss: 0.2679 - val_auc: 0.9054 - val_loss: 0.2571\n",
            "Epoch 6/100\n",
            "\u001b[1m1173/1173\u001b[0m \u001b[32m━━━━━━━━━━━━━━━━━━━━\u001b[0m\u001b[37m\u001b[0m \u001b[1m3s\u001b[0m 3ms/step - auc: 0.8965 - loss: 0.2640 - val_auc: 0.9057 - val_loss: 0.2535\n",
            "Epoch 7/100\n",
            "\u001b[1m1173/1173\u001b[0m \u001b[32m━━━━━━━━━━━━━━━━━━━━\u001b[0m\u001b[37m\u001b[0m \u001b[1m4s\u001b[0m 3ms/step - auc: 0.8947 - loss: 0.2651 - val_auc: 0.9068 - val_loss: 0.2520\n",
            "Epoch 8/100\n",
            "\u001b[1m1173/1173\u001b[0m \u001b[32m━━━━━━━━━━━━━━━━━━━━\u001b[0m\u001b[37m\u001b[0m \u001b[1m3s\u001b[0m 3ms/step - auc: 0.9001 - loss: 0.2558 - val_auc: 0.9102 - val_loss: 0.2476\n",
            "Epoch 9/100\n",
            "\u001b[1m1173/1173\u001b[0m \u001b[32m━━━━━━━━━━━━━━━━━━━━\u001b[0m\u001b[37m\u001b[0m \u001b[1m3s\u001b[0m 3ms/step - auc: 0.8989 - loss: 0.2580 - val_auc: 0.9093 - val_loss: 0.2447\n",
            "Epoch 10/100\n",
            "\u001b[1m1173/1173\u001b[0m \u001b[32m━━━━━━━━━━━━━━━━━━━━\u001b[0m\u001b[37m\u001b[0m \u001b[1m3s\u001b[0m 3ms/step - auc: 0.9102 - loss: 0.2473 - val_auc: 0.9103 - val_loss: 0.2438\n",
            "Epoch 11/100\n",
            "\u001b[1m1173/1173\u001b[0m \u001b[32m━━━━━━━━━━━━━━━━━━━━\u001b[0m\u001b[37m\u001b[0m \u001b[1m4s\u001b[0m 3ms/step - auc: 0.8958 - loss: 0.2579 - val_auc: 0.9088 - val_loss: 0.2430\n",
            "Epoch 12/100\n",
            "\u001b[1m1173/1173\u001b[0m \u001b[32m━━━━━━━━━━━━━━━━━━━━\u001b[0m\u001b[37m\u001b[0m \u001b[1m4s\u001b[0m 4ms/step - auc: 0.9008 - loss: 0.2541 - val_auc: 0.9092 - val_loss: 0.2415\n",
            "Epoch 13/100\n",
            "\u001b[1m1173/1173\u001b[0m \u001b[32m━━━━━━━━━━━━━━━━━━━━\u001b[0m\u001b[37m\u001b[0m \u001b[1m8s\u001b[0m 7ms/step - auc: 0.9032 - loss: 0.2503 - val_auc: 0.9098 - val_loss: 0.2435\n",
            "Epoch 14/100\n",
            "\u001b[1m1173/1173\u001b[0m \u001b[32m━━━━━━━━━━━━━━━━━━━━\u001b[0m\u001b[37m\u001b[0m \u001b[1m3s\u001b[0m 3ms/step - auc: 0.9033 - loss: 0.2507 - val_auc: 0.9105 - val_loss: 0.2405\n",
            "Epoch 15/100\n",
            "\u001b[1m1173/1173\u001b[0m \u001b[32m━━━━━━━━━━━━━━━━━━━━\u001b[0m\u001b[37m\u001b[0m \u001b[1m3s\u001b[0m 3ms/step - auc: 0.9082 - loss: 0.2435 - val_auc: 0.9114 - val_loss: 0.2409\n",
            "Epoch 16/100\n",
            "\u001b[1m1173/1173\u001b[0m \u001b[32m━━━━━━━━━━━━━━━━━━━━\u001b[0m\u001b[37m\u001b[0m \u001b[1m4s\u001b[0m 3ms/step - auc: 0.9060 - loss: 0.2436 - val_auc: 0.9125 - val_loss: 0.2358\n",
            "Epoch 17/100\n",
            "\u001b[1m1173/1173\u001b[0m \u001b[32m━━━━━━━━━━━━━━━━━━━━\u001b[0m\u001b[37m\u001b[0m \u001b[1m3s\u001b[0m 3ms/step - auc: 0.9062 - loss: 0.2432 - val_auc: 0.9102 - val_loss: 0.2384\n",
            "Epoch 18/100\n",
            "\u001b[1m1173/1173\u001b[0m \u001b[32m━━━━━━━━━━━━━━━━━━━━\u001b[0m\u001b[37m\u001b[0m \u001b[1m3s\u001b[0m 3ms/step - auc: 0.9070 - loss: 0.2487 - val_auc: 0.9134 - val_loss: 0.2343\n",
            "Epoch 19/100\n",
            "\u001b[1m1173/1173\u001b[0m \u001b[32m━━━━━━━━━━━━━━━━━━━━\u001b[0m\u001b[37m\u001b[0m \u001b[1m3s\u001b[0m 3ms/step - auc: 0.9075 - loss: 0.2472 - val_auc: 0.9139 - val_loss: 0.2332\n",
            "Epoch 20/100\n",
            "\u001b[1m1173/1173\u001b[0m \u001b[32m━━━━━━━━━━━━━━━━━━━━\u001b[0m\u001b[37m\u001b[0m \u001b[1m4s\u001b[0m 3ms/step - auc: 0.9024 - loss: 0.2428 - val_auc: 0.9144 - val_loss: 0.2338\n",
            "Epoch 21/100\n",
            "\u001b[1m1173/1173\u001b[0m \u001b[32m━━━━━━━━━━━━━━━━━━━━\u001b[0m\u001b[37m\u001b[0m \u001b[1m3s\u001b[0m 3ms/step - auc: 0.9054 - loss: 0.2419 - val_auc: 0.9108 - val_loss: 0.2336\n",
            "Epoch 22/100\n",
            "\u001b[1m1173/1173\u001b[0m \u001b[32m━━━━━━━━━━━━━━━━━━━━\u001b[0m\u001b[37m\u001b[0m \u001b[1m3s\u001b[0m 3ms/step - auc: 0.9076 - loss: 0.2444 - val_auc: 0.9146 - val_loss: 0.2357\n",
            "Epoch 23/100\n",
            "\u001b[1m1173/1173\u001b[0m \u001b[32m━━━━━━━━━━━━━━━━━━━━\u001b[0m\u001b[37m\u001b[0m \u001b[1m4s\u001b[0m 3ms/step - auc: 0.9045 - loss: 0.2443 - val_auc: 0.9159 - val_loss: 0.2318\n",
            "Epoch 24/100\n",
            "\u001b[1m1173/1173\u001b[0m \u001b[32m━━━━━━━━━━━━━━━━━━━━\u001b[0m\u001b[37m\u001b[0m \u001b[1m3s\u001b[0m 3ms/step - auc: 0.9084 - loss: 0.2429 - val_auc: 0.9160 - val_loss: 0.2319\n",
            "Epoch 25/100\n",
            "\u001b[1m1173/1173\u001b[0m \u001b[32m━━━━━━━━━━━━━━━━━━━━\u001b[0m\u001b[37m\u001b[0m \u001b[1m3s\u001b[0m 3ms/step - auc: 0.9109 - loss: 0.2369 - val_auc: 0.9159 - val_loss: 0.2302\n",
            "Epoch 26/100\n",
            "\u001b[1m1173/1173\u001b[0m \u001b[32m━━━━━━━━━━━━━━━━━━━━\u001b[0m\u001b[37m\u001b[0m \u001b[1m3s\u001b[0m 3ms/step - auc: 0.9063 - loss: 0.2420 - val_auc: 0.9144 - val_loss: 0.2316\n",
            "Epoch 27/100\n",
            "\u001b[1m1173/1173\u001b[0m \u001b[32m━━━━━━━━━━━━━━━━━━━━\u001b[0m\u001b[37m\u001b[0m \u001b[1m4s\u001b[0m 3ms/step - auc: 0.9019 - loss: 0.2480 - val_auc: 0.9161 - val_loss: 0.2276\n",
            "Epoch 28/100\n",
            "\u001b[1m1173/1173\u001b[0m \u001b[32m━━━━━━━━━━━━━━━━━━━━\u001b[0m\u001b[37m\u001b[0m \u001b[1m3s\u001b[0m 3ms/step - auc: 0.9086 - loss: 0.2395 - val_auc: 0.9160 - val_loss: 0.2368\n",
            "Epoch 29/100\n",
            "\u001b[1m1173/1173\u001b[0m \u001b[32m━━━━━━━━━━━━━━━━━━━━\u001b[0m\u001b[37m\u001b[0m \u001b[1m3s\u001b[0m 3ms/step - auc: 0.9088 - loss: 0.2380 - val_auc: 0.9170 - val_loss: 0.2270\n",
            "Epoch 30/100\n",
            "\u001b[1m1173/1173\u001b[0m \u001b[32m━━━━━━━━━━━━━━━━━━━━\u001b[0m\u001b[37m\u001b[0m \u001b[1m4s\u001b[0m 3ms/step - auc: 0.9073 - loss: 0.2379 - val_auc: 0.9157 - val_loss: 0.2353\n",
            "Epoch 31/100\n",
            "\u001b[1m1173/1173\u001b[0m \u001b[32m━━━━━━━━━━━━━━━━━━━━\u001b[0m\u001b[37m\u001b[0m \u001b[1m5s\u001b[0m 3ms/step - auc: 0.9055 - loss: 0.2414 - val_auc: 0.9160 - val_loss: 0.2270\n",
            "Epoch 32/100\n",
            "\u001b[1m1173/1173\u001b[0m \u001b[32m━━━━━━━━━━━━━━━━━━━━\u001b[0m\u001b[37m\u001b[0m \u001b[1m3s\u001b[0m 3ms/step - auc: 0.9119 - loss: 0.2358 - val_auc: 0.9158 - val_loss: 0.2274\n",
            "Epoch 33/100\n",
            "\u001b[1m1173/1173\u001b[0m \u001b[32m━━━━━━━━━━━━━━━━━━━━\u001b[0m\u001b[37m\u001b[0m \u001b[1m3s\u001b[0m 3ms/step - auc: 0.9089 - loss: 0.2389 - val_auc: 0.9164 - val_loss: 0.2254\n",
            "Epoch 34/100\n",
            "\u001b[1m1173/1173\u001b[0m \u001b[32m━━━━━━━━━━━━━━━━━━━━\u001b[0m\u001b[37m\u001b[0m \u001b[1m4s\u001b[0m 3ms/step - auc: 0.9106 - loss: 0.2369 - val_auc: 0.9165 - val_loss: 0.2260\n",
            "Epoch 35/100\n",
            "\u001b[1m1173/1173\u001b[0m \u001b[32m━━━━━━━━━━━━━━━━━━━━\u001b[0m\u001b[37m\u001b[0m \u001b[1m3s\u001b[0m 3ms/step - auc: 0.9115 - loss: 0.2389 - val_auc: 0.9178 - val_loss: 0.2250\n",
            "Epoch 36/100\n",
            "\u001b[1m1173/1173\u001b[0m \u001b[32m━━━━━━━━━━━━━━━━━━━━\u001b[0m\u001b[37m\u001b[0m \u001b[1m3s\u001b[0m 3ms/step - auc: 0.9082 - loss: 0.2400 - val_auc: 0.9157 - val_loss: 0.2266\n",
            "Epoch 37/100\n",
            "\u001b[1m1173/1173\u001b[0m \u001b[32m━━━━━━━━━━━━━━━━━━━━\u001b[0m\u001b[37m\u001b[0m \u001b[1m4s\u001b[0m 3ms/step - auc: 0.9072 - loss: 0.2389 - val_auc: 0.9176 - val_loss: 0.2245\n",
            "Epoch 38/100\n",
            "\u001b[1m1173/1173\u001b[0m \u001b[32m━━━━━━━━━━━━━━━━━━━━\u001b[0m\u001b[37m\u001b[0m \u001b[1m3s\u001b[0m 3ms/step - auc: 0.9083 - loss: 0.2395 - val_auc: 0.9161 - val_loss: 0.2265\n",
            "Epoch 39/100\n",
            "\u001b[1m1173/1173\u001b[0m \u001b[32m━━━━━━━━━━━━━━━━━━━━\u001b[0m\u001b[37m\u001b[0m \u001b[1m3s\u001b[0m 3ms/step - auc: 0.9102 - loss: 0.2333 - val_auc: 0.9171 - val_loss: 0.2224\n",
            "Epoch 40/100\n",
            "\u001b[1m1173/1173\u001b[0m \u001b[32m━━━━━━━━━━━━━━━━━━━━\u001b[0m\u001b[37m\u001b[0m \u001b[1m3s\u001b[0m 3ms/step - auc: 0.9076 - loss: 0.2436 - val_auc: 0.9145 - val_loss: 0.2264\n",
            "Epoch 41/100\n",
            "\u001b[1m1173/1173\u001b[0m \u001b[32m━━━━━━━━━━━━━━━━━━━━\u001b[0m\u001b[37m\u001b[0m \u001b[1m4s\u001b[0m 3ms/step - auc: 0.9087 - loss: 0.2367 - val_auc: 0.9179 - val_loss: 0.2222\n",
            "Epoch 42/100\n",
            "\u001b[1m1173/1173\u001b[0m \u001b[32m━━━━━━━━━━━━━━━━━━━━\u001b[0m\u001b[37m\u001b[0m \u001b[1m3s\u001b[0m 3ms/step - auc: 0.9121 - loss: 0.2335 - val_auc: 0.9180 - val_loss: 0.2227\n",
            "Epoch 43/100\n",
            "\u001b[1m1173/1173\u001b[0m \u001b[32m━━━━━━━━━━━━━━━━━━━━\u001b[0m\u001b[37m\u001b[0m \u001b[1m4s\u001b[0m 3ms/step - auc: 0.9082 - loss: 0.2365 - val_auc: 0.9167 - val_loss: 0.2242\n",
            "Epoch 44/100\n",
            "\u001b[1m1173/1173\u001b[0m \u001b[32m━━━━━━━━━━━━━━━━━━━━\u001b[0m\u001b[37m\u001b[0m \u001b[1m4s\u001b[0m 3ms/step - auc: 0.9076 - loss: 0.2375 - val_auc: 0.9173 - val_loss: 0.2230\n",
            "Epoch 45/100\n",
            "\u001b[1m1173/1173\u001b[0m \u001b[32m━━━━━━━━━━━━━━━━━━━━\u001b[0m\u001b[37m\u001b[0m \u001b[1m3s\u001b[0m 3ms/step - auc: 0.9105 - loss: 0.2346 - val_auc: 0.9166 - val_loss: 0.2275\n",
            "Epoch 46/100\n",
            "\u001b[1m1173/1173\u001b[0m \u001b[32m━━━━━━━━━━━━━━━━━━━━\u001b[0m\u001b[37m\u001b[0m \u001b[1m3s\u001b[0m 3ms/step - auc: 0.9081 - loss: 0.2339 - val_auc: 0.9176 - val_loss: 0.2222\n",
            "Epoch 47/100\n",
            "\u001b[1m1173/1173\u001b[0m \u001b[32m━━━━━━━━━━━━━━━━━━━━\u001b[0m\u001b[37m\u001b[0m \u001b[1m4s\u001b[0m 3ms/step - auc: 0.9173 - loss: 0.2257 - val_auc: 0.9174 - val_loss: 0.2238\n",
            "Epoch 48/100\n",
            "\u001b[1m1173/1173\u001b[0m \u001b[32m━━━━━━━━━━━━━━━━━━━━\u001b[0m\u001b[37m\u001b[0m \u001b[1m4s\u001b[0m 4ms/step - auc: 0.9125 - loss: 0.2309 - val_auc: 0.9160 - val_loss: 0.2226\n",
            "Epoch 49/100\n",
            "\u001b[1m1173/1173\u001b[0m \u001b[32m━━━━━━━━━━━━━━━━━━━━\u001b[0m\u001b[37m\u001b[0m \u001b[1m3s\u001b[0m 3ms/step - auc: 0.9086 - loss: 0.2329 - val_auc: 0.9175 - val_loss: 0.2229\n",
            "Epoch 50/100\n",
            "\u001b[1m1173/1173\u001b[0m \u001b[32m━━━━━━━━━━━━━━━━━━━━\u001b[0m\u001b[37m\u001b[0m \u001b[1m3s\u001b[0m 3ms/step - auc: 0.9107 - loss: 0.2356 - val_auc: 0.9168 - val_loss: 0.2208\n",
            "Epoch 51/100\n",
            "\u001b[1m1173/1173\u001b[0m \u001b[32m━━━━━━━━━━━━━━━━━━━━\u001b[0m\u001b[37m\u001b[0m \u001b[1m5s\u001b[0m 5ms/step - auc: 0.9172 - loss: 0.2258 - val_auc: 0.9174 - val_loss: 0.2233\n",
            "Epoch 52/100\n",
            "\u001b[1m1173/1173\u001b[0m \u001b[32m━━━━━━━━━━━━━━━━━━━━\u001b[0m\u001b[37m\u001b[0m \u001b[1m5s\u001b[0m 5ms/step - auc: 0.9061 - loss: 0.2359 - val_auc: 0.9179 - val_loss: 0.2220\n",
            "Epoch 53/100\n",
            "\u001b[1m1173/1173\u001b[0m \u001b[32m━━━━━━━━━━━━━━━━━━━━\u001b[0m\u001b[37m\u001b[0m \u001b[1m9s\u001b[0m 4ms/step - auc: 0.9169 - loss: 0.2319 - val_auc: 0.9182 - val_loss: 0.2237\n",
            "Epoch 54/100\n",
            "\u001b[1m1173/1173\u001b[0m \u001b[32m━━━━━━━━━━━━━━━━━━━━\u001b[0m\u001b[37m\u001b[0m \u001b[1m4s\u001b[0m 4ms/step - auc: 0.9126 - loss: 0.2358 - val_auc: 0.9167 - val_loss: 0.2265\n",
            "Epoch 55/100\n",
            "\u001b[1m1173/1173\u001b[0m \u001b[32m━━━━━━━━━━━━━━━━━━━━\u001b[0m\u001b[37m\u001b[0m \u001b[1m4s\u001b[0m 3ms/step - auc: 0.9083 - loss: 0.2329 - val_auc: 0.9174 - val_loss: 0.2242\n"
          ]
        }
      ]
    },
    {
      "cell_type": "markdown",
      "source": [
        "Step 9 Plot Learning Curve"
      ],
      "metadata": {
        "id": "5W3Qdef90h0n"
      }
    },
    {
      "cell_type": "code",
      "source": [
        "import matplotlib.pyplot as plt"
      ],
      "metadata": {
        "id": "DSLQoJJkXVVK"
      },
      "execution_count": 36,
      "outputs": []
    },
    {
      "cell_type": "code",
      "source": [
        "plt.plot(hist.history['loss'],label='training loss')\n",
        "plt.plot(hist.history['val_loss'],label='validation loss')\n",
        "plt.xlabel('Epochs')\n",
        "plt.ylabel('Loss')\n",
        "plt.title(\"Learning Curve\")\n",
        "plt.legend()\n",
        "plt.show()"
      ],
      "metadata": {
        "colab": {
          "base_uri": "https://localhost:8080/",
          "height": 472
        },
        "id": "p1r5xY4O0r3m",
        "outputId": "31fecb5f-ca35-47cb-a910-2ad4a5143744"
      },
      "execution_count": 37,
      "outputs": [
        {
          "output_type": "display_data",
          "data": {
            "text/plain": [
              "<Figure size 640x480 with 1 Axes>"
            ],
            "image/png": "[encoded data removed]"
          },
          "metadata": {}
        }
      ]
    }
  ]
}